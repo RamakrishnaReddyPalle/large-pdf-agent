{
 "cells": [
  {
   "cell_type": "markdown",
   "id": "53b57f2d",
   "metadata": {},
   "source": [
    "## **03 - Building Index**"
   ]
  },
  {
   "cell_type": "markdown",
   "id": "3a329c96",
   "metadata": {},
   "source": [
    "#### **Setup**"
   ]
  },
  {
   "cell_type": "code",
   "execution_count": 1,
   "id": "c4c58d6c",
   "metadata": {},
   "outputs": [],
   "source": [
    "import sys\n",
    "from pathlib import Path\n",
    "\n",
    "CWD = Path.cwd().resolve()\n",
    "ROOT = CWD if (CWD / \"src\").exists() else CWD.parent\n",
    "if str(ROOT) not in sys.path:\n",
    "    sys.path.append(str(ROOT))\n",
    "\n",
    "from src.ingest.build_index import build_index"
   ]
  },
  {
   "cell_type": "code",
   "execution_count": 2,
   "id": "c24df029",
   "metadata": {},
   "outputs": [
    {
     "name": "stdout",
     "output_type": "stream",
     "text": [
      "ROOT: D:\\IIT BBS\\Job Resources\\Business Optima\\pdf-agent\n",
      "CHUNKS exists? True\n",
      "INDEX_DIR: D:\\IIT BBS\\Job Resources\\Business Optima\\pdf-agent\\data\\index\n"
     ]
    }
   ],
   "source": [
    "CHUNKS = ROOT / \"data\" / \"chunks\" / \"chunks.jsonl\"\n",
    "INDEX_DIR = ROOT / \"data\" / \"index\"\n",
    "\n",
    "print(\"ROOT:\", ROOT)\n",
    "print(\"CHUNKS exists?\", CHUNKS.exists())\n",
    "print(\"INDEX_DIR:\", INDEX_DIR)"
   ]
  },
  {
   "cell_type": "markdown",
   "id": "11a2713c",
   "metadata": {},
   "source": [
    "#### **Peek chunks (raw JSONL; heading_path is still a list here)**"
   ]
  },
  {
   "cell_type": "code",
   "execution_count": 3,
   "id": "98f09a25",
   "metadata": {},
   "outputs": [
    {
     "name": "stdout",
     "output_type": "stream",
     "text": [
      "title17-h-1 heading ['Copyright Law United States Copyri']\n",
      "title17-2 para ['Copyright Law United States Copyri']\n",
      "title17-3 para ['Copyright Law United States Copyri']\n",
      "title17-h-4 heading ['Copyright Law United States Copyri', 'Copyright Law of the United States']\n",
      "title17-5 para ['Copyright Law United States Copyri', 'Copyright Law of the United States']\n",
      "title17-6 para ['Copyright Law United States Copyri', 'Copyright Law of the United States']\n",
      "title17-7 para ['Copyright Law United States Copyri', 'Copyright Law of the United States']\n",
      "title17-h-8 heading ['Copyright Law United States Copyri', 'dedication']\n",
      "title17-9 para ['Copyright Law United States Copyri', 'dedication']\n",
      "title17-h-10 heading ['Copyright Law United States Copyri', 'Preface']\n"
     ]
    }
   ],
   "source": [
    "import json, itertools\n",
    "assert CHUNKS.exists(), \"chunks.jsonl not found—run 01/02 notebooks first.\"\n",
    "for line in itertools.islice(open(CHUNKS, \"r\", encoding=\"utf-8\"), 10):\n",
    "    rec = json.loads(line)\n",
    "    print(rec[\"id\"], rec[\"metadata\"][\"block_type\"], rec[\"metadata\"][\"heading_path\"][:2])"
   ]
  },
  {
   "cell_type": "markdown",
   "id": "abc2390e",
   "metadata": {},
   "source": [
    "#### **Embed model dim**"
   ]
  },
  {
   "cell_type": "code",
   "execution_count": 4,
   "id": "932b98fd",
   "metadata": {},
   "outputs": [
    {
     "name": "stdout",
     "output_type": "stream",
     "text": [
      "bge-base dim: 768\n"
     ]
    }
   ],
   "source": [
    "from sentence_transformers import SentenceTransformer\n",
    "st = SentenceTransformer(\"BAAI/bge-base-en-v1.5\", device=\"cpu\")\n",
    "print(\"bge-base dim:\", st.get_sentence_embedding_dimension())\n"
   ]
  },
  {
   "cell_type": "markdown",
   "id": "34ab3240",
   "metadata": {},
   "source": [
    "#### **Build index (set reset=True if re-running)**"
   ]
  },
  {
   "cell_type": "code",
   "execution_count": null,
   "id": "953f0f2b",
   "metadata": {},
   "outputs": [
    {
     "name": "stdout",
     "output_type": "stream",
     "text": [
      "Indexed 64/2683\n",
      "Indexed 128/2683\n",
      "Indexed 192/2683\n",
      "Indexed 256/2683\n",
      "Indexed 320/2683\n",
      "Indexed 384/2683\n",
      "Indexed 448/2683\n",
      "Indexed 512/2683\n",
      "Indexed 576/2683\n",
      "Indexed 640/2683\n",
      "Indexed 704/2683\n",
      "Indexed 768/2683\n",
      "Indexed 832/2683\n",
      "Indexed 896/2683\n",
      "Indexed 960/2683\n",
      "Indexed 1024/2683\n",
      "Indexed 1088/2683\n",
      "Indexed 1152/2683\n",
      "Indexed 1216/2683\n",
      "Indexed 1280/2683\n",
      "Indexed 1344/2683\n",
      "Indexed 1408/2683\n",
      "Indexed 1472/2683\n",
      "Indexed 1536/2683\n",
      "Indexed 1600/2683\n",
      "Indexed 1664/2683\n",
      "Indexed 1728/2683\n",
      "Indexed 1792/2683\n",
      "Indexed 1856/2683\n",
      "Indexed 1920/2683\n",
      "Indexed 1984/2683\n",
      "Indexed 2048/2683\n",
      "Indexed 2112/2683\n",
      "Indexed 2176/2683\n",
      "Indexed 2240/2683\n",
      "Indexed 2304/2683\n",
      "Indexed 2368/2683\n",
      "Indexed 2432/2683\n",
      "Indexed 2496/2683\n",
      "Indexed 2560/2683\n",
      "Indexed 2624/2683\n",
      "Indexed 2683/2683\n",
      "[OK] Chroma collection 'title17' built at D:\\IIT BBS\\Job Resources\\Business Optima\\pdf-agent\\data\\index\n",
      "[INFO] Embed model: BAAI/bge-base-en-v1.5 | BGE passage prompt: True\n"
     ]
    },
    {
     "data": {
      "text/plain": [
       "'title17'"
      ]
     },
     "execution_count": 5,
     "metadata": {},
     "output_type": "execute_result"
    }
   ],
   "source": [
    "collection_name = build_index(\n",
    "    CHUNKS,\n",
    "    persist=INDEX_DIR,\n",
    "    collection=None,                     # defaults to doc_id\n",
    "    embed_model=\"BAAI/bge-base-en-v1.5\", # CPU-friendly\n",
    "    batch_size=64,\n",
    "    bge_use_prompt=True,\n",
    "    reset=False,                         # True for a clean rebuild\n",
    ")\n",
    "collection_name\n"
   ]
  },
  {
   "cell_type": "markdown",
   "id": "83e4626a",
   "metadata": {},
   "source": [
    "#### **Verify index count**"
   ]
  },
  {
   "cell_type": "code",
   "execution_count": 6,
   "id": "aeed118a",
   "metadata": {},
   "outputs": [
    {
     "name": "stdout",
     "output_type": "stream",
     "text": [
      "Indexed documents: 2683\n"
     ]
    }
   ],
   "source": [
    "import chromadb\n",
    "client = chromadb.PersistentClient(path=str(INDEX_DIR))\n",
    "coll = client.get_collection(collection_name)\n",
    "print(\"Indexed documents:\", coll.count())"
   ]
  },
  {
   "cell_type": "markdown",
   "id": "f2e488b2",
   "metadata": {},
   "source": [
    "#### **Retrieval sanity check (+ distances)**"
   ]
  },
  {
   "cell_type": "code",
   "execution_count": 7,
   "id": "6d5bf68d",
   "metadata": {},
   "outputs": [
    {
     "name": "stdout",
     "output_type": "stream",
     "text": [
      "\n",
      "[dist=0.412 | p.40] ['Copyright Law United States Copyri', '§ 107 · Limitations on exclusive rights: Fair use 40']\n",
      "- (1) the purpose and character of the use, including whether such use is of a commercial nature or is for nonprofit educational purposes;\n",
      "- (2) the nature of the copyrighted work;\n",
      "- (3) the amount and substantiality of the portion used in relation to the copyrighted work as a wh …\n",
      "\n",
      "[dist=0.433 | p.403] ['Copyright Law United States Copyri', 'Sec. 103 · Other Rights Not Affected.']\n",
      "- (b) Fair Use. -The amendments made by this title shall not affect the fair use, under section 107 of title 17, United States Code, of a genuine certificate, licensing document, registration card, similar labeling component, or documentation or packaging described in paragraph ( …\n",
      "\n",
      "[dist=0.440 | p.40] ['Copyright Law United States Copyri', '§ 107 · Limitations on exclusive rights: Fair use 40']\n",
      "Notwithstanding the provisions of sections 106 and 106A, the fair use of a copyrighted work, including such use by reproduction in copies or phonorecords or by any other means specified by that section, for purposes such as criticism, comment, news reporting, teaching (including  …\n",
      "\n",
      "[dist=0.459 | p.40] ['Copyright Law United States Copyri', '§ 107 · Limitations on exclusive rights: Fair use 40']\n",
      "The fact that a work is unpublished shall not itself bar a finding of fair use if such finding is made upon consideration of all the above factors . …\n",
      "\n",
      "[dist=0.465 | p.40] ['Copyright Law United States Copyri', '§ 107 · Limitations on exclusive rights: Fair use 40']\n",
      "§ 107 · Limitations on exclusive rights: Fair use 40 …\n",
      "\n",
      "[dist=0.477 | p.42] ['Copyright Law United States Copyri', '§ 108 · Limitations on exclusive rights: Reproduction by libraries and archives 41']\n",
      "ion by lending of a limited number of copies and excerpts by a library or archives of an audiovisual news program, subject to clauses (1), (2), and (3) of subsection (a); or\n",
      "- (4) in any way affects the right of fair use as provided by section 107, or any contractual obligations  …\n",
      "\n",
      "[dist=0.501 | p.45] ['Copyright Law United States Copyri', '§ 109 · Limitations on exclusive rights: Effect of transfer of particular copy or phonorecord 42']\n",
      "by the projection of no more than one image at a time, to viewers present at the place where the copy is located . - (d) The privileges prescribed by subsections (a) and (c) do not, unless authorized by the copyright owner, extend to any person who has acquired possession of the  …\n",
      "\n",
      "[dist=0.502 | p.46] ['Copyright Law United States Copyri', '§ 110 · Limitations on exclusive rights: Exemption of certain performances and displays 43']\n",
      "(2) except with respect to a work produced or marketed primarily for performance or display as part of mediated instructional activities transmitted via digital networks, or a performance or display that is given by means of a copy or phonorecord that is not lawfully made and acq …\n"
     ]
    }
   ],
   "source": [
    "from sentence_transformers import SentenceTransformer\n",
    "st = SentenceTransformer(\"BAAI/bge-base-en-v1.5\", device=\"cpu\")\n",
    "\n",
    "def embed_query(q: str):\n",
    "    q = \"query: \" + q.strip()\n",
    "    return st.encode([q], normalize_embeddings=True, show_progress_bar=False)[0].tolist()\n",
    "\n",
    "def last2_headings(meta: dict):\n",
    "    hp = (meta or {}).get(\"heading_path\") or \"\"\n",
    "    parts = [p.strip() for p in hp.split(\">\") if p.strip()]\n",
    "    return parts[-2:] if len(parts) >= 2 else parts\n",
    "\n",
    "q = \"What does §107 say about fair use?\"\n",
    "qe = embed_query(q)\n",
    "\n",
    "res = coll.query(query_embeddings=[qe], n_results=8, include=[\"documents\",\"metadatas\",\"distances\"])\n",
    "for doc, meta, dist in zip(res[\"documents\"][0], res[\"metadatas\"][0], res[\"distances\"][0]):\n",
    "    print(f\"\\n[dist={dist:.3f} | p.{meta.get('page_start')}] {last2_headings(meta)}\")\n",
    "    print(doc[:280], \"…\")\n"
   ]
  },
  {
   "cell_type": "markdown",
   "id": "477d5a3c",
   "metadata": {},
   "source": [
    "#### **Negative control (out-of-scope)**"
   ]
  },
  {
   "cell_type": "code",
   "execution_count": null,
   "id": "2c2e6c82",
   "metadata": {},
   "outputs": [
    {
     "name": "stdout",
     "output_type": "stream",
     "text": [
      "distances: [0.935, 0.942, 0.948, 0.954, 0.957]\n"
     ]
    }
   ],
   "source": [
    "q = \"How to bake sourdough bread?\"\n",
    "qe = embed_query(q)\n",
    "res = coll.query(query_embeddings=[qe], n_results=5, include=[\"distances\"])\n",
    "print(\"distances:\", [round(d, 3) for d in res[\"distances\"][0]])"
   ]
  },
  {
   "cell_type": "markdown",
   "id": "9e230af7",
   "metadata": {},
   "source": [
    "#### **Quick duplicate detector**"
   ]
  },
  {
   "cell_type": "code",
   "execution_count": 9,
   "id": "49ca3290",
   "metadata": {},
   "outputs": [
    {
     "name": "stdout",
     "output_type": "stream",
     "text": [
      "Unique hash count: 2572 | total: 2683\n",
      "Potential duplicates: 17\n"
     ]
    },
    {
     "data": {
      "text/plain": [
       "[('title17-235',\n",
       "  '(I) if the performance is by audio means only, the performance is communicated by means of a total of not more than 6 loudspeakers, of which'),\n",
       " ('title17-236',\n",
       "  '(II) if the performance or display is by audiovisual means, any visual portion of the performance or display is communicated by means of a t'),\n",
       " ('title17-496', '-'),\n",
       " ('title17-1002', '| | section | page |'),\n",
       " ('title17-h-1721', 'section')]"
      ]
     },
     "execution_count": 9,
     "metadata": {},
     "output_type": "execute_result"
    }
   ],
   "source": [
    "import json, hashlib, collections\n",
    "histo = collections.Counter()\n",
    "dups = []\n",
    "with open(CHUNKS, \"r\", encoding=\"utf-8\") as f:\n",
    "    for line in f:\n",
    "        rec = json.loads(line)\n",
    "        t = \" \".join(rec[\"text\"].split())\n",
    "        h = hashlib.md5(t.encode(\"utf-8\")).hexdigest()\n",
    "        histo[h] += 1\n",
    "        if histo[h] == 2:\n",
    "            dups.append((rec[\"id\"], t[:140]))\n",
    "print(\"Unique hash count:\", len(histo), \"| total:\", sum(histo.values()))\n",
    "print(\"Potential duplicates:\", len(dups))\n",
    "dups[:5]\n"
   ]
  },
  {
   "cell_type": "markdown",
   "id": "cc9d3a0a",
   "metadata": {},
   "source": [
    "#### **ToC leakage probe**"
   ]
  },
  {
   "cell_type": "code",
   "execution_count": 10,
   "id": "00ecbfa9",
   "metadata": {},
   "outputs": [
    {
     "name": "stdout",
     "output_type": "stream",
     "text": [
      "TOC-like chunks: 43\n",
      "title17-41 → | chapter 1 | Subject Matter and Scope of Copyright ... | . . 1 | …\n",
      "title17-42 → |-------------|--------------------------------------------------------------------------------------------------------- …\n",
      "title17-43 → t of 1998 ... | 371 |\n",
      "| appendix c | The Copyright Royalty and Distribution Reform Act of 2004 ... | 377 |\n",
      "| appendix d  …\n",
      "title17-44 → | appendix i | The STELA Reauthorization Act of 2014 ... | 411 | …\n",
      "title17-45 → |--------------|-------------------------------------------------------------------------------------------------------- …\n"
     ]
    }
   ],
   "source": [
    "import json, re, itertools\n",
    "toc_like = []\n",
    "with open(CHUNKS, \"r\", encoding=\"utf-8\") as f:\n",
    "    for line in f:\n",
    "        rec = json.loads(line)\n",
    "        txt = rec[\"text\"]\n",
    "        if txt.count(\"|\") >= 3 or re.search(r\"(?:\\.\\s){3,}\", txt):\n",
    "            toc_like.append(rec)\n",
    "print(\"TOC-like chunks:\", len(toc_like))\n",
    "for r in itertools.islice(toc_like, 5):\n",
    "    print(r[\"id\"], \"→\", r[\"text\"][:120], \"…\")"
   ]
  },
  {
   "cell_type": "markdown",
   "id": "e24271ab",
   "metadata": {},
   "source": [
    "## **Observations**\n",
    "\n",
    "**1) Indexed documents:**\n",
    "- 2683 — matches chunk count. \n",
    "- Coverage is complete.\n",
    "\n",
    "**2) Retrieval sanity (fair use §107):**\n",
    "- Top hits are directly from §107 (p.40) with distances 0.41–0.47, plus closely related sections (§108 etc.) and an appendix that mentions fair use. \n",
    "- That’s exactly what i want: the target section + nearby legal cross-refs.\n",
    "\n",
    "**3) Negative control (“sourdough”)**\n",
    "- Distances ~0.94–0.96—very far. \n",
    "- Great separation: low semantic bleed/noise.\n",
    "\n",
    "**4) Duplicates: 17 / 2683 ≈ 0.63%**\n",
    "- Mostly tiny fragments (e.g., single dash, short “section” header, TOC stub). \n",
    "- That’s harmless at this rate. Can clean further later if it ever shows in results.\n",
    "\n",
    "**5) TOC-like chunks: 43 / 2683 ≈ 1.6%**\n",
    "- Not large. They’re mostly tables/piped rows. \n",
    "- They rarely surface for substantive queries (and your fair-use query didn’t return them)."
   ]
  }
 ],
 "metadata": {
  "kernelspec": {
   "display_name": "pdf-agent-2",
   "language": "python",
   "name": "python3"
  },
  "language_info": {
   "codemirror_mode": {
    "name": "ipython",
    "version": 3
   },
   "file_extension": ".py",
   "mimetype": "text/x-python",
   "name": "python",
   "nbconvert_exporter": "python",
   "pygments_lexer": "ipython3",
   "version": "3.11.13"
  }
 },
 "nbformat": 4,
 "nbformat_minor": 5
}
