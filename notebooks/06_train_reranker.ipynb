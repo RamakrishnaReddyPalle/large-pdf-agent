{
 "cells": [
  {
   "cell_type": "markdown",
   "id": "8efed4b6",
   "metadata": {},
   "source": [
    "### **1) Paths & sanity**"
   ]
  },
  {
   "cell_type": "code",
   "execution_count": 1,
   "id": "32df0ae9",
   "metadata": {},
   "outputs": [
    {
     "name": "stdout",
     "output_type": "stream",
     "text": [
      "ROOT: D:\\IIT BBS\\Job Resources\\Business Optima\\pdf-agent\n",
      "CHUNKS: D:\\IIT BBS\\Job Resources\\Business Optima\\pdf-agent\\data\\chunks\n",
      "SFT_DIR: D:\\IIT BBS\\Job Resources\\Business Optima\\pdf-agent\\data\\sft\n",
      "PAIRS_DIR: D:\\IIT BBS\\Job Resources\\Business Optima\\pdf-agent\\data\\pairs\n",
      "OUT_RR: D:\\IIT BBS\\Job Resources\\Business Optima\\pdf-agent\\outputs\\reranker\\title17\n",
      "Python: 3.11.13 | CPU threads: 8\n"
     ]
    }
   ],
   "source": [
    "from pathlib import Path\n",
    "import sys, os, platform\n",
    "\n",
    "CWD  = Path.cwd().resolve()\n",
    "ROOT = CWD if (CWD / \"src\").exists() else CWD.parent\n",
    "if str(ROOT) not in sys.path: sys.path.append(str(ROOT))\n",
    "\n",
    "DATA      = ROOT / \"data\"\n",
    "CHUNKS    = DATA / \"chunks\"\n",
    "SFT_DIR   = DATA / \"sft\"\n",
    "PAIRS_DIR = DATA / \"pairs\"\n",
    "OUT_RR    = ROOT / \"outputs\" / \"reranker\" / \"title17\"\n",
    "OUT_RR.mkdir(parents=True, exist_ok=True)\n",
    "\n",
    "print(\"ROOT:\", ROOT)\n",
    "print(\"CHUNKS:\", CHUNKS)\n",
    "print(\"SFT_DIR:\", SFT_DIR)\n",
    "print(\"PAIRS_DIR:\", PAIRS_DIR)\n",
    "print(\"OUT_RR:\", OUT_RR)\n",
    "print(\"Python:\", platform.python_version(), \"| CPU threads:\", os.cpu_count())"
   ]
  },
  {
   "cell_type": "markdown",
   "id": "92f79c43",
   "metadata": {},
   "source": [
    "### **SFT rows format**"
   ]
  },
  {
   "cell_type": "code",
   "execution_count": 2,
   "id": "8bc7c9d7",
   "metadata": {},
   "outputs": [
    {
     "name": "stdout",
     "output_type": "stream",
     "text": [
      "showing 3 rows from D:\\IIT BBS\\Job Resources\\Business Optima\\pdf-agent\\data\\sft\\train.jsonl\n",
      "['messages', 'response'] → type: <class 'dict'>\n",
      "['messages', 'response'] → type: <class 'dict'>\n",
      "['messages', 'response'] → type: <class 'dict'>\n"
     ]
    }
   ],
   "source": [
    "import json, itertools, pathlib\n",
    "fp = SFT_DIR / \"train.jsonl\"\n",
    "print(\"showing 3 rows from\", fp)\n",
    "for line in itertools.islice(open(fp, \"r\", encoding=\"utf-8\"), 3):\n",
    "    obj = json.loads(line); print(list(obj.keys())[:10], \"→ type:\", type(obj))"
   ]
  },
  {
   "cell_type": "markdown",
   "id": "5d9fd665",
   "metadata": {},
   "source": [
    "### **02) Mining positive/negative pairs**"
   ]
  },
  {
   "cell_type": "code",
   "execution_count": null,
   "id": "1687c251",
   "metadata": {},
   "outputs": [
    {
     "name": "stdout",
     "output_type": "stream",
     "text": [
      "Launching: 'd:\\Anaconda\\envs\\pdf-agent-2\\python.exe' 'D:\\IIT BBS\\Job Resources\\Business Optima\\pdf-agent\\src\\train\\retriever_pairs.py' --chunks_dir 'D:\\IIT BBS\\Job Resources\\Business Optima\\pdf-agent\\data\\chunks' --train_jsonl 'D:\\IIT BBS\\Job Resources\\Business Optima\\pdf-agent\\data\\sft\\train.jsonl' --dev_jsonl 'D:\\IIT BBS\\Job Resources\\Business Optima\\pdf-agent\\data\\sft\\dev.jsonl' --out_dir 'D:\\IIT BBS\\Job Resources\\Business Optima\\pdf-agent\\data\\pairs' --topk 30 --neg_per_q 4 --min_query_len 12\n",
      "[info] loaded 2683 chunks\n",
      "[stats] kept=130/130 | skipped_short=0 | page=0 | substr=2 | top1=128\n",
      "[OK] wrote 130 train pairs → D:\\IIT BBS\\Job Resources\\Business Optima\\pdf-agent\\data\\pairs\\train.pairs.jsonl\n",
      "[stats] kept=11/11 | skipped_short=0 | page=0 | substr=0 | top1=11\n",
      "[OK] wrote 11 dev pairs → D:\\IIT BBS\\Job Resources\\Business Optima\\pdf-agent\\data\\pairs\\dev.pairs.jsonl\n",
      "\n"
     ]
    }
   ],
   "source": [
    "import subprocess, sys, shlex\n",
    "args = [\n",
    "    sys.executable, str(ROOT / \"src/train/retriever_pairs.py\"),\n",
    "    \"--chunks_dir\", str(CHUNKS),\n",
    "    \"--train_jsonl\", str(SFT_DIR / \"train.jsonl\"),\n",
    "    \"--dev_jsonl\",   str(SFT_DIR / \"dev.jsonl\"),\n",
    "    \"--out_dir\",     str(PAIRS_DIR),\n",
    "    \"--topk\", \"30\",\n",
    "    \"--neg_per_q\", \"4\",\n",
    "    \"--min_query_len\", \"12\",\n",
    "]\n",
    "print(\"Launching:\", \" \".join(map(shlex.quote, args)))\n",
    "print(subprocess.run(args, capture_output=True, text=True).stdout)\n"
   ]
  },
  {
   "cell_type": "code",
   "execution_count": null,
   "id": "da1d7b22",
   "metadata": {},
   "outputs": [
    {
     "name": "stdout",
     "output_type": "stream",
     "text": [
      "\n",
      "D:\\IIT BBS\\Job Resources\\Business Optima\\pdf-agent\\data\\pairs\\train.pairs.jsonl:\n",
      "{'query': '(factual) What is the main rule in Copyright Law United States Copyri > § 115 · Scope of exclusive rights in nondramatic musical works: Compulsory license for making and distributing phonorecords 50?\\nPrefer concise, correct answers. End with [pp. 88–92].', 'positive': '§ 115 · Scope of exclusive rights in nondramatic musical works: Compulsory license for making and distributing phonorecords 50', 'negatives': ['t programming by cable … | . . 31 |\\n| 112 | Limitations on exclusive rights: Ephemeral recordings … | . . 43 |\\n| 113 | Scope of exclusive rights in pictorial, graphic, and sculptural works | . . 48 |\\n| 114 | Scope of exclusive rights in sound recordings … | . . 50 |\\n| 115 | Scope of exclusive rights in nondramatic musical works: Compulsory license for making and distributing phonorecords . . | . . 68 |\\n| 116 | Negotiated licenses for public performances by means of coin-operated phonorecord players … | . 114 |\\n| 117 | Limitations on exclusive rights: Computer programs … | . 115 |\\n| 118 | Scope of exclusive rights: Use of certain works in connection with noncommercial broadcasting … | . 116 |\\n| 119 | Limitations on exclusive rights: Secondary transmissions of distant television programming by satellite … | . 119 |\\n| 120 | Scope of exclusive rights in architectural works … | . 136 |\\n| 121 | Limitations on exclusive rights: Reproduction for blind or other people with disabilities … | . 136 |\\n| 121a | Limitations on exclusive rights: Reproduction for blind or other people with disabilities in Marrakesh Treaty countries . . | . 137 |\\n| 122 | Limitations on exclusive rights: Secondary transmissions of local television programming by satellite … | . 139 |', '|-------|----------------------------------------------------------------------------------------------------------------------------------------------------------------------------------------------------------|----------|\\n| 102 | Subject matter of copyright: In general … | . . 8 |\\n| 103 | Subject matter of copyright: Compilations and derivative works . | . . 9 |\\n| 104 | Subject matter of copyright: National origin … | . . 9 |\\n| 104a | Copyright in restored works … | . . 10 |\\n| 105 | Subject matter of copyright: United States Government works | . . 16 |\\n| 106 | Exclusive rights in copyrighted works … | . . 18 |\\n| 106a | Rights of certain authors to attribution and integrity … | . . 18 |\\n| 107 | Limitations on exclusive rights: Fair use … | . . 20 |\\n| 108 | Limitations on exclusive rights: Reproduction by libraries and archives … | . . 20 |\\n| 109 | Limitations on exclusive rights: Effect of transfer of particular copy or phonorecord … | . . 23 |\\n| 110 | Limitations on exclusive rights: Exemption of certain performances and displays … | . . 26 |\\n| 111 | Limitations on exclusive rights: Secondary transmissions of broadcast programming by cable … | . . 31 |\\n| 112 | Limitations on exclusive rights: Ephemeral recordings … | . . 43 |\\n| 113 | Scope of exclusive rights in pictorial, graphic, and sculptural works | . . 48 |\\n| 114 | Scope of exclusive rights in sound recordings … | . . 50 |\\n| 115 | Scope of exclusive rights in nondramatic musical works: Compulsory license for making and distributing phonorecords . . | . .', 'In the case of nondramatic musical works, the exclusive rights provided by clauses (1) and (3) of section 106, to make and to distribute phonorecords of such works, are subject to compulsory licensing under the conditions specified by this section .', '- (A) Conditions for compulsory license. -A person may by complying with the provisions of this section obtain a compulsory license to make and distribute phonorecords of a nondramatic musical work, including by means of digital phonorecord delivery . A person may obtain a compulsory license only if the primary purpose in making phonorecords of the musical work is to distribute them to the public for private use, including by means of digital phonorecord delivery, and-\\n- (i) phonorecords of such musical work have previously been distributed to the public in the United States under the authority of the copyright owner of the work, including by means of digital phonorecord delivery; or\\n- (ii) in the case of a digital music provider seeking to make and distribute digital phonorecord deliveries of a sound recording embodying a musical work under a compulsory license for which clause (i) does not apply-\\n- (I) the first fixation of such sound recording was made under the authority of the musical work copyright owner, and the sound recording copyright owner has the authority of the musical work copyright owner to make and distribute digital phonorecord deliveries embodying such work to the public in the United States; and\\n- (II) the sound recording copyright owner, or the authorized distributor of the sound recording copyright owner, has authorized the digital music provider to make and distribute digital phonorecord deliveries of the sound recording to the public in the United States . - (B) Duplication of sound recording.'], 'meta': {'section': '', 'gold_pages': [88, 89, 90, 91, 92], 'pos_chunk_id': 'title17-h-435', 'pos_reason': 'top1'}}\n",
      "{'query': 'Summarize the section:\\nHeading: Copyright Law United States Copyri > § 304 · Duration of copyright: Subsisting copyrights 6\\nSummarize as 6–8 concise bullet points. End with [pp. 189–201].', 'positive': '§ 304 · Duration of copyright: Subsisting copyrights 6', 'negatives': ['|-----|----------------------------------------------------------------------------------------------------------------------------------------------------------------|----------|\\n| 301 | Preemption with respect to other laws ... | . . 174 |\\n| 302 | Duration of copyright: Works created on or after January 1, 1978 | . . 175 |\\n| 303 | Duration of copyright: Works created but not published or copyrighted before January 1, 1978 … | . . 176 |\\n| 304 | Duration of copyright: Subsisting copyrights … | . . 176 |\\n| 305 | Duration of copyright: Terminal date ... | . . 181 |', 'Copyright Law United States Copyri', '- [Copyright Act of 1976], Pub. L. No. 94-553, 90 Stat. 2541 (for the general revision of copyright law, Title 17 of the United States Code , and for other purposes), October 19, 1976. - Legislative Branch Appropriation Act, 1978, Pub. L. No. 95-94, 91 Stat. 653, 682 (amending §203 and §708, Title 17, United States Code , regarding the deposit of moneys by the Register of Copyrights in the Treasury of the United States), enacted August 5, 1977. - [Copyright Amendments], Pub. L. No. 95-598, 92 Stat. 2549, 2676 (amending §201(e), Title 17, United States Code , to permit involuntary transfer under the Bankruptcy Law), enacted November 6, 1978. - [Copyright Amendments], Pub. L. No. 96-517, 94 Stat. 3015, 3028 (amending §101 and §117, Title 17, United States Code , regarding computer programs), enacted December 12, 1980. - Piracy and Counterfeiting Amendments Act of 1982, Pub. L. No. 97-180, 96 Stat. 91, 93 (amending §506(a), Title 17, United States Code , and Title 18 of the United States Code ), enacted May 24, 1982. - [Copyright Amendments], Pub. L. No. 97-215, 96 Stat. 178 (amending the manufacturing clause in chapter 6, Title 17, United States Code ), enacted July 13, 1982. - [Copyright Amendments], Pub. L. No. 97-366, 96 Stat. 1759 (amending §110 and §708, Title 17, United States Code , regarding the redesignation of registration fees as filing fees, and the exemption from copyright liability of certain performances of nondramatic literary or musical works), enacted October 25, 1982. - Record Rental Amendment of 1984, Pub. L. No. 98-450, 98 Stat.', \"definition of 'gross square feet of space .' Pub . L . No . 105-298, 112 Stat . 2827, 2833 . - 13 . The WIPO Copyright and Performances and Phonograms Treaties Implementation Act of 1998 requires that paragraph (5) of the definition of 'international agreement' take effect upon entry into force of the WIPO Copyright Treaty with respect to the United States, which occurred March 6, 2002 . Pub . L . No . 105-304, 112 Stat . 2860, 2877 . - 14 . The WIPO Copyright and Performances and Phonograms Treaties Implementation Act of 1998 requires that paragraph (6) of the definition of 'international agreement' take effect upon entry into force of the WIPO Performances and Phonograms Treaty with respect to the United States, which occurred May 20, 2002 . Pub . L . No . 105-304, 112 Stat . 2860, 2877 .\"], 'meta': {'section': 'Copyright Law United States Copyri > § 304 · Duration of copyright: Subsisting copyrights 6', 'gold_pages': [189, 190, 191, 192, 193, 194, 195, 196, 197, 198, 199, 200, 201], 'pos_chunk_id': 'title17-h-1020', 'pos_reason': 'top1'}}\n",
      "\n",
      "D:\\IIT BBS\\Job Resources\\Business Optima\\pdf-agent\\data\\pairs\\dev.pairs.jsonl:\n",
      "{'query': '(factual) What is the main rule in Copyright Law United States Copyri > § 804 · Institution of proceedings 7?\\nPrefer concise, correct answers. End with [pp. 276–279].', 'positive': '§ 804 · Institution of proceedings 7', 'negatives': ['|-----|-------------------------------------------------------------------------------------------------|----------|\\n| 801 | Copyright Royalty Judges; appointment and functions | . .238 |\\n| 802 | Copyright Royalty Judgeships; staff … | . . 241 |\\n| 803 | Proceedings of Copyright Royalty Judges … | . . 245 |\\n| 804 | Institution of proceedings … | . . 256 |\\n| 805 | General rule for voluntarily negotiated agreements ... | . . 259 |', 'Copyright Law United States Copyri', 'filing of petitions to participate in a proceeding under this chapter for the purpose of making the relevant determination under section 111, 112, 114, 115, 116, 118, 119, 1004, or 1007, as the case may be-\\n7. (I) promptly upon a determination made under section 804(a);\\n8. (II) by no later than January 5 of a year specified in paragraph (2) of section 804(b) for the commencement of proceedings;\\n9. (III) by no later than January 5 of a year specified in subparagraph (A) or (B) of paragraph (3) of section 804(b) for the commencement of proceedings, or as otherwise provided in subparagraph (A) or (C) of such paragraph for the commencement of proceedings;\\n10. (IV) as provided under section 804(b)(8); or\\n11. (V) by no later than January 5 of a year specified in any other provision of section 804(b) for the filing of petitions for the commencement of proceedings, if a petition has not been filed by that', \"- (3) Director of national intelligence authority .-With respect to a covered author who produces a covered work in the course of employment at the covered institution described in subsection (d)(2)(M), the Director of National Intelligence may direct the covered author to provide the Federal Government with an irrevocable, royalty-free, worldwide, nonexclusive license to reproduce, distribute, perform, or display such covered work for purposes of the United States Government .\\n- (4) Secretary of transportation authority .-With respect to a covered author who produces a covered work in the course of employment at the covered institution described in subsection (d)(2)(N), the Secretary of Transportation may direct the covered author to provide the Federal Government with an irrevocable, royalty-free, worldwide, nonexclusive license to reproduce, distribute, perform, or display such covered work for purposes of the United States Government .\\n3. (d) Definitions. -In this section:\\n- (1) Covered author .-The term 'covered author' means a civilian member of the faculty of a covered institution .\\n- (2) Covered institution .-The term 'covered institution' means the following:\\n6. (A) National Defense University .\\n7. (B) United States Military Academy .\\n8. (C) Army War College .\\n9. (D) United States Army Command and General Staff College .\\n10. (E) United States Naval Academy .\\n11. (F) Naval War College .\\n12. (G) Naval Postgraduate School .\\n13. (H) Marine Corps University .\\n14. (I) United States Air Force Academy .\"], 'meta': {'section': '', 'gold_pages': [276, 277, 278, 279], 'pos_chunk_id': 'title17-h-1451', 'pos_reason': 'top1'}}\n",
      "{'query': 'Summarize the section:\\nHeading: Copyright Law United States Copyri > § 203 · Termination of transfers and licenses granted by the author 3\\nSummarize as 12–15 detailed bullet points. End with [pp. 189–191].', 'positive': '§ 203 · Termination of transfers and licenses granted by the author 3', 'negatives': ['|-----|------------------------------------------------------------------------------------------------------------------------------------------|----------|\\n| 201 | Ownership of copyright ... | . .168 |\\n| 202 | Ownership of copyright as distinct from ownership of material object ... | . 168 |\\n| 203 | Termination of transfers and licenses granted by the author | . 169 |\\n| 204 | Execution of transfers of copyright ownership ... | . . 171 |\\n| 205 | Recordation of transfers and other documents … | . . 171 |', \"tled to exercise a total of more than one-half of that author's interest. - (2) Where an author is dead, his or her termination interest is owned, and may be exercised, as follows:\\n- (A) The widow or widower owns the author's entire termination interest unless there are any surviving children or grandchildren of the author, in which case the widow or widower owns one-half of the author's interest. - (B) The author's surviving children, and the surviving children of any dead child of the author, own the author's entire termination interest unless there is a widow or widower, in which case the ownership of one-half of the author's interest is divided among them. - (C) The rights of the author's children and grandchildren are in all cases divided among them and exercised on a per stirpes basis according to the number of such author's children represented; the share of the children of a dead child in a termination interest can be exercised only by the action of a majority of them. - (D) In the event that the author's widow or widower, children, and grandchildren are not living, the author's executor, administrator, personal representative, or trustee shall own the author's entire termination interest. - (3) Termination of the grant may be effected at any time during a period of five years beginning at the end of thirty-five years from the date of execution\", \"- (a) Definition .-In this section, the term 'performing rights society' has the meaning given the term in section 101 of title 17, United States Code.\\n- (b) Notification of Review .-\\n- (1) In general .-The Department of Justice shall provide timely briefings upon request of any Member of the Committee on the Judiciary of the Senate and the Committee on the Judiciary of the House of Representatives regarding the status of a review in progress of a consent decree between the United States and a performing rights society.\\n- (2) Confidentiality and deliberative process .-In accordance with applicable rules relating to confidentiality and agency deliberative process, the Department of Justice shall share with such Members of Congress detailed and timely information and pertinent documents related to the consent decree review.\\n- (c) Action Before Motion to Terminate .-\\n- (1) In general .-Before filing with the appropriate district court of the United States a motion to terminate a consent decree between the United States and a performing rights society, including a motion to terminate a consent decree after the passage of a specified period of time, the Department of Justice shall-\\n- (A) notify Members of Congress and committees of Congress described in subsection (b); and\\n- (B) provide to such Members of Congress and committees information regarding the impact of the proposed termination on the market for licensing the public performance of musical works should the motion be granted.\", \"- (1) In the case of a grant executed by a person or persons other than the author, termination of the grant may be effected by the surviving person or persons who executed it. In the case of a grant executed by one or more of the authors of the work, termination of the grant may be effected, to the extent of a particular author's share in the ownership of the renewal copyright, by the author who executed it or, if such author is dead, by the person or persons who, under clause (2) of this subsection, own and are entitled to exercise a total of more than one-half of that author's termination interest. - (2) Where an author is dead, his or her termination interest is owned, and may be exercised, as follows:\\n3. (A) The widow or widower owns the author's entire termination interest unless there are any surviving children or grandchildren of the author, in which case the widow or widower owns one-half of the author's interest. 4. (B) The author's surviving children, and the surviving children of any dead child of the author, own the author's entire termination interest unless there is a widow or widower, in which case the ownership of one-half of the author's interest is divided among them. 5. (C) The rights of the author's children and grandchildren are in all cases divided among them and exercised on a per stirpes basis according to the number of such author's children represented; the share of the children of a dead child in a termination interest can be exercised only by the action of a majority of them. 6.\"], 'meta': {'section': 'Copyright Law United States Copyri > § 203 · Termination of transfers and licenses granted by the author 3', 'gold_pages': [189, 190, 191], 'pos_chunk_id': 'title17-h-983', 'pos_reason': 'top1'}}\n"
     ]
    }
   ],
   "source": [
    "import json, itertools\n",
    "train_pairs = PAIRS_DIR / \"train.pairs.jsonl\"\n",
    "dev_pairs   = PAIRS_DIR / \"dev.pairs.jsonl\"\n",
    "for p in (train_pairs, dev_pairs):\n",
    "    if p.exists():\n",
    "        print(f\"\\n{p}:\")\n",
    "        for line in itertools.islice(open(p, \"r\", encoding=\"utf-8\"), 2):\n",
    "            print(json.loads(line))\n"
   ]
  },
  {
   "cell_type": "markdown",
   "id": "2837b84f",
   "metadata": {},
   "source": [
    "### **03) Pre-downloading the base reranker for offline use**"
   ]
  },
  {
   "cell_type": "code",
   "execution_count": null,
   "id": "c7476df3",
   "metadata": {},
   "outputs": [
    {
     "data": {
      "application/vnd.jupyter.widget-view+json": {
       "model_id": "48dd20cad4564470993fd456b2ff3a38",
       "version_major": 2,
       "version_minor": 0
      },
      "text/plain": [
       "Fetching 23 files:   0%|          | 0/23 [00:00<?, ?it/s]"
      ]
     },
     "metadata": {},
     "output_type": "display_data"
    },
    {
     "name": "stderr",
     "output_type": "stream",
     "text": [
      "d:\\Anaconda\\envs\\pdf-agent-2\\Lib\\site-packages\\huggingface_hub\\file_download.py:982: UserWarning: `local_dir_use_symlinks` parameter is deprecated and will be ignored. The process to download files to a local folder has been updated and do not rely on symlinks anymore. You only need to pass a destination folder as`local_dir`.\n",
      "For more details, check out https://huggingface.co/docs/huggingface_hub/main/en/guides/download#download-files-to-local-folder.\n",
      "  warnings.warn(\n"
     ]
    },
    {
     "data": {
      "application/vnd.jupyter.widget-view+json": {
       "model_id": "0405c941ab73469aba3976a9d34d6c74",
       "version_major": 2,
       "version_minor": 0
      },
      "text/plain": [
       "README.md: 0.00B [00:00, ?B/s]"
      ]
     },
     "metadata": {},
     "output_type": "display_data"
    },
    {
     "data": {
      "application/vnd.jupyter.widget-view+json": {
       "model_id": "c2c5ac2716b740bf9a0dabf635a14c43",
       "version_major": 2,
       "version_minor": 0
      },
      "text/plain": [
       "model.safetensors:   0%|          | 0.00/90.9M [00:00<?, ?B/s]"
      ]
     },
     "metadata": {},
     "output_type": "display_data"
    },
    {
     "data": {
      "application/vnd.jupyter.widget-view+json": {
       "model_id": "d9eccb7a05ca40ec9f76331309709caf",
       "version_major": 2,
       "version_minor": 0
      },
      "text/plain": [
       "onnx/model.onnx:   0%|          | 0.00/91.0M [00:00<?, ?B/s]"
      ]
     },
     "metadata": {},
     "output_type": "display_data"
    },
    {
     "data": {
      "application/vnd.jupyter.widget-view+json": {
       "model_id": "12a25453d39c46bf8fa7ba1f737128b6",
       "version_major": 2,
       "version_minor": 0
      },
      "text/plain": [
       "onnx/model_O2.onnx:   0%|          | 0.00/90.9M [00:00<?, ?B/s]"
      ]
     },
     "metadata": {},
     "output_type": "display_data"
    },
    {
     "data": {
      "application/vnd.jupyter.widget-view+json": {
       "model_id": "28eda824c7b94d75a5a174166276fcca",
       "version_major": 2,
       "version_minor": 0
      },
      "text/plain": [
       "onnx/model_O1.onnx:   0%|          | 0.00/91.0M [00:00<?, ?B/s]"
      ]
     },
     "metadata": {},
     "output_type": "display_data"
    },
    {
     "data": {
      "application/vnd.jupyter.widget-view+json": {
       "model_id": "3173f7ad03ce46ff9916190ba25acabc",
       "version_major": 2,
       "version_minor": 0
      },
      "text/plain": [
       "flax_model.msgpack:   0%|          | 0.00/90.9M [00:00<?, ?B/s]"
      ]
     },
     "metadata": {},
     "output_type": "display_data"
    },
    {
     "data": {
      "application/vnd.jupyter.widget-view+json": {
       "model_id": "b219f32eaa9943bb8f49f819060a2337",
       "version_major": 2,
       "version_minor": 0
      },
      "text/plain": [
       ".gitattributes:   0%|          | 0.00/790 [00:00<?, ?B/s]"
      ]
     },
     "metadata": {},
     "output_type": "display_data"
    },
    {
     "data": {
      "application/vnd.jupyter.widget-view+json": {
       "model_id": "dafd6dff08574f57b96e49972cee756e",
       "version_major": 2,
       "version_minor": 0
      },
      "text/plain": [
       "config.json:   0%|          | 0.00/794 [00:00<?, ?B/s]"
      ]
     },
     "metadata": {},
     "output_type": "display_data"
    },
    {
     "data": {
      "application/vnd.jupyter.widget-view+json": {
       "model_id": "9fd876d66b9a45eb97c97d6dd5f6f851",
       "version_major": 2,
       "version_minor": 0
      },
      "text/plain": [
       "onnx/model_O3.onnx:   0%|          | 0.00/90.9M [00:00<?, ?B/s]"
      ]
     },
     "metadata": {},
     "output_type": "display_data"
    },
    {
     "data": {
      "application/vnd.jupyter.widget-view+json": {
       "model_id": "a88bd990137e482ea919e17385982272",
       "version_major": 2,
       "version_minor": 0
      },
      "text/plain": [
       "onnx/model_qint8_arm64.onnx:   0%|          | 0.00/23.2M [00:00<?, ?B/s]"
      ]
     },
     "metadata": {},
     "output_type": "display_data"
    },
    {
     "data": {
      "application/vnd.jupyter.widget-view+json": {
       "model_id": "903b7d7455d54d2cba0162ac86be7cfc",
       "version_major": 2,
       "version_minor": 0
      },
      "text/plain": [
       "onnx/model_O4.onnx:   0%|          | 0.00/45.5M [00:00<?, ?B/s]"
      ]
     },
     "metadata": {},
     "output_type": "display_data"
    },
    {
     "data": {
      "application/vnd.jupyter.widget-view+json": {
       "model_id": "bd49ab0ba94b4c039f47ce7af79b9111",
       "version_major": 2,
       "version_minor": 0
      },
      "text/plain": [
       "onnx/model_qint8_avx512.onnx:   0%|          | 0.00/23.2M [00:00<?, ?B/s]"
      ]
     },
     "metadata": {},
     "output_type": "display_data"
    },
    {
     "data": {
      "application/vnd.jupyter.widget-view+json": {
       "model_id": "370c78dc8a1c41598bd7c1a515b8bf7b",
       "version_major": 2,
       "version_minor": 0
      },
      "text/plain": [
       "onnx/model_qint8_avx512_vnni.onnx:   0%|          | 0.00/23.2M [00:00<?, ?B/s]"
      ]
     },
     "metadata": {},
     "output_type": "display_data"
    },
    {
     "data": {
      "application/vnd.jupyter.widget-view+json": {
       "model_id": "e02530ce296d4d718bc3bd750491e62a",
       "version_major": 2,
       "version_minor": 0
      },
      "text/plain": [
       "onnx/model_quint8_avx2.onnx:   0%|          | 0.00/23.2M [00:00<?, ?B/s]"
      ]
     },
     "metadata": {},
     "output_type": "display_data"
    },
    {
     "data": {
      "application/vnd.jupyter.widget-view+json": {
       "model_id": "47cf88dbf75f4539b5dc01b29ce4fff4",
       "version_major": 2,
       "version_minor": 0
      },
      "text/plain": [
       "openvino/openvino_model.bin:   0%|          | 0.00/90.9M [00:00<?, ?B/s]"
      ]
     },
     "metadata": {},
     "output_type": "display_data"
    },
    {
     "data": {
      "application/vnd.jupyter.widget-view+json": {
       "model_id": "cbb42fd49ba44c9e81c6eb53b6d9debc",
       "version_major": 2,
       "version_minor": 0
      },
      "text/plain": [
       "openvino_model.xml: 0.00B [00:00, ?B/s]"
      ]
     },
     "metadata": {},
     "output_type": "display_data"
    },
    {
     "data": {
      "application/vnd.jupyter.widget-view+json": {
       "model_id": "bcaea278035540dfb8394ec974d53e7a",
       "version_major": 2,
       "version_minor": 0
      },
      "text/plain": [
       "openvino/openvino_model_qint8_quantized.(…):   0%|          | 0.00/23.1M [00:00<?, ?B/s]"
      ]
     },
     "metadata": {},
     "output_type": "display_data"
    },
    {
     "data": {
      "application/vnd.jupyter.widget-view+json": {
       "model_id": "40e22e7723d8429f860e26aa823c32c2",
       "version_major": 2,
       "version_minor": 0
      },
      "text/plain": [
       "openvino_model_qint8_quantized.xml: 0.00B [00:00, ?B/s]"
      ]
     },
     "metadata": {},
     "output_type": "display_data"
    },
    {
     "data": {
      "application/vnd.jupyter.widget-view+json": {
       "model_id": "16dcef905bb749c5893b28de8d838b74",
       "version_major": 2,
       "version_minor": 0
      },
      "text/plain": [
       "pytorch_model.bin:   0%|          | 0.00/90.9M [00:00<?, ?B/s]"
      ]
     },
     "metadata": {},
     "output_type": "display_data"
    },
    {
     "data": {
      "application/vnd.jupyter.widget-view+json": {
       "model_id": "fb9ad80367114dd392aef9682be7dc9b",
       "version_major": 2,
       "version_minor": 0
      },
      "text/plain": [
       "special_tokens_map.json:   0%|          | 0.00/132 [00:00<?, ?B/s]"
      ]
     },
     "metadata": {},
     "output_type": "display_data"
    },
    {
     "data": {
      "application/vnd.jupyter.widget-view+json": {
       "model_id": "dcb5b060d72c4a51a9dca32b0a767b60",
       "version_major": 2,
       "version_minor": 0
      },
      "text/plain": [
       "tokenizer.json: 0.00B [00:00, ?B/s]"
      ]
     },
     "metadata": {},
     "output_type": "display_data"
    },
    {
     "data": {
      "application/vnd.jupyter.widget-view+json": {
       "model_id": "a91e7276701b49838c86fe4d83409395",
       "version_major": 2,
       "version_minor": 0
      },
      "text/plain": [
       "tokenizer_config.json: 0.00B [00:00, ?B/s]"
      ]
     },
     "metadata": {},
     "output_type": "display_data"
    },
    {
     "data": {
      "application/vnd.jupyter.widget-view+json": {
       "model_id": "0789278b400e44a49b5ab7b09a5f82e7",
       "version_major": 2,
       "version_minor": 0
      },
      "text/plain": [
       "vocab.txt: 0.00B [00:00, ?B/s]"
      ]
     },
     "metadata": {},
     "output_type": "display_data"
    },
    {
     "name": "stdout",
     "output_type": "stream",
     "text": [
      "Local reranker base: D:\\IIT BBS\\Job Resources\\Business Optima\\pdf-agent\\models\\msmarco-minilm-l6-v2\n"
     ]
    }
   ],
   "source": [
    "from huggingface_hub import snapshot_download\n",
    "\n",
    "LOCAL_CE = ROOT / \"models\" / \"msmarco-minilm-l6-v2\"\n",
    "LOCAL_CE.mkdir(parents=True, exist_ok=True)\n",
    "\n",
    "local_dir = snapshot_download(\n",
    "    repo_id=\"cross-encoder/ms-marco-MiniLM-L-6-v2\",\n",
    "    local_dir=str(LOCAL_CE),\n",
    "    local_dir_use_symlinks=False,\n",
    ")\n",
    "print(\"Local reranker base:\", local_dir)\n"
   ]
  },
  {
   "cell_type": "markdown",
   "id": "33e31882",
   "metadata": {},
   "source": [
    "### **04) Train reranker (CPU)**"
   ]
  },
  {
   "cell_type": "code",
   "execution_count": null,
   "id": "012cd249",
   "metadata": {},
   "outputs": [
    {
     "name": "stdout",
     "output_type": "stream",
     "text": [
      "[info] using base CE: D:\\IIT BBS\\Job Resources\\Business Optima\\pdf-agent\\models\\msmarco-minilm-l6-v2\n",
      "Launching: 'd:\\Anaconda\\envs\\pdf-agent-2\\python.exe' 'D:\\IIT BBS\\Job Resources\\Business Optima\\pdf-agent\\src\\train\\train_reranker.py' --train_pairs 'D:\\IIT BBS\\Job Resources\\Business Optima\\pdf-agent\\data\\pairs\\train.pairs.jsonl' --dev_pairs 'D:\\IIT BBS\\Job Resources\\Business Optima\\pdf-agent\\data\\pairs\\dev.pairs.jsonl' --base_ce cross-encoder/ms-marco-MiniLM-L-6-v2 --local_base_dir 'D:\\IIT BBS\\Job Resources\\Business Optima\\pdf-agent\\models\\msmarco-minilm-l6-v2' --out_dir 'D:\\IIT BBS\\Job Resources\\Business Optima\\pdf-agent\\outputs\\reranker\\title17' --epochs 2 --batch_size 8 --lr 2e-5 --max_len 384\n",
      "[info] base CE: D:\\IIT BBS\\Job Resources\\Business Optima\\pdf-agent\\models\\msmarco-minilm-l6-v2\n",
      "[info] train examples: 650\n",
      "[info] total_steps=164 | warmup_steps=16\n",
      "[info] dev queries for rerank eval: 11\n",
      "\n",
      "Epoch:   0%|          | 0/2 [00:00<?, ?it/s]\n",
      "\n",
      "Iteration:   0%|          | 0/82 [00:00<?, ?it/s]\u001b[A\n",
      "\n",
      "Iteration:   1%|          | 1/82 [00:08<11:04,  8.20s/it]\u001b[A\n",
      "\n",
      "Iteration:   2%|▏         | 2/82 [00:13<08:37,  6.47s/it]\u001b[A\n",
      "\n",
      "Iteration:   4%|▎         | 3/82 [00:17<07:29,  5.69s/it]\u001b[A\n",
      "\n",
      "Iteration:   5%|▍         | 4/82 [00:21<06:56,  5.33s/it]\u001b[A\n",
      "\n",
      "Iteration:   6%|▌         | 5/82 [00:25<06:31,  5.09s/it]\u001b[A\n",
      "\n",
      "Iteration:   7%|▋         | 6/82 [00:29<06:04,  4.79s/it]\u001b[A\n",
      "\n",
      "Iteration:   9%|▊         | 7/82 [00:33<05:50,  4.67s/it]\u001b[A\n",
      "\n",
      "Iteration:  10%|▉         | 8/82 [00:37<05:34,  4.51s/it]\u001b[A\n",
      "\n",
      "Iteration:  11%|█         | 9/82 [00:41<05:26,  4.47s/it]\u001b[A\n",
      "\n",
      "Iteration:  12%|█▏        | 10/82 [00:45<05:16,  4.40s/it]\u001b[A\n",
      "\n",
      "Iteration:  13%|█▎        | 11/82 [00:49<05:09,  4.36s/it]\u001b[A\n",
      "\n",
      "Iteration:  15%|█▍        | 12/82 [00:53<05:03,  4.33s/it]\u001b[A\n",
      "\n",
      "Iteration:  16%|█▌        | 13/82 [00:55<04:42,  4.09s/it]\u001b[A\n",
      "\n",
      "Iteration:  17%|█▋        | 14/82 [00:59<04:39,  4.12s/it]\u001b[A\n",
      "\n",
      "Iteration:  18%|█▊        | 15/82 [01:03<04:35,  4.11s/it]\u001b[A\n",
      "\n",
      "Iteration:  20%|█▉        | 16/82 [01:08<04:33,  4.15s/it]\u001b[A\n",
      "\n",
      "Iteration:  21%|██        | 17/82 [01:12<04:32,  4.19s/it]\u001b[A\n",
      "\n",
      "Iteration:  22%|██▏       | 18/82 [01:17<04:29,  4.21s/it]\u001b[A\n",
      "\n",
      "Iteration:  23%|██▎       | 19/82 [01:21<04:23,  4.19s/it]\u001b[A\n",
      "\n",
      "Iteration:  24%|██▍       | 20/82 [01:25<04:19,  4.19s/it]\u001b[A\n",
      "\n",
      "Iteration:  26%|██▌       | 21/82 [01:29<04:15,  4.19s/it]\u001b[A\n",
      "\n",
      "Iteration:  27%|██▋       | 22/82 [01:33<04:08,  4.15s/it]\u001b[A\n",
      "\n",
      "Iteration:  28%|██▊       | 23/82 [01:37<04:06,  4.18s/it]\u001b[A\n",
      "\n",
      "Iteration:  29%|██▉       | 24/82 [01:41<04:02,  4.17s/it]\u001b[A\n",
      "\n",
      "Iteration:  30%|███       | 25/82 [01:46<03:58,  4.18s/it]\u001b[A\n",
      "\n",
      "Iteration:  32%|███▏      | 26/82 [01:49<03:51,  4.14s/it]\u001b[A\n",
      "\n",
      "Iteration:  33%|███▎      | 27/82 [01:54<03:48,  4.15s/it]\u001b[A\n",
      "\n",
      "Iteration:  34%|███▍      | 28/82 [01:58<03:44,  4.15s/it]\u001b[A\n",
      "\n",
      "Iteration:  35%|███▌      | 29/82 [02:02<03:40,  4.17s/it]\u001b[A\n",
      "\n",
      "Iteration:  37%|███▋      | 30/82 [02:06<03:36,  4.16s/it]\u001b[A\n",
      "\n",
      "Iteration:  38%|███▊      | 31/82 [02:11<03:32,  4.17s/it]\u001b[A\n",
      "\n",
      "Iteration:  39%|███▉      | 32/82 [02:15<03:29,  4.18s/it]\u001b[A\n",
      "\n",
      "Iteration:  40%|████      | 33/82 [02:20<03:28,  4.25s/it]\u001b[A\n",
      "\n",
      "Iteration:  41%|████▏     | 34/82 [02:25<03:26,  4.29s/it]\u001b[A\n",
      "\n",
      "Iteration:  43%|████▎     | 35/82 [02:31<03:25,  4.38s/it]\u001b[A\n",
      "\n",
      "Iteration:  44%|████▍     | 36/82 [02:33<03:15,  4.25s/it]\u001b[A\n",
      "\n",
      "Iteration:  45%|████▌     | 37/82 [02:38<03:12,  4.27s/it]\u001b[A\n",
      "\n",
      "Iteration:  46%|████▋     | 38/82 [02:42<03:06,  4.25s/it]\u001b[A\n",
      "\n",
      "Iteration:  48%|████▊     | 39/82 [02:46<03:02,  4.25s/it]\u001b[A\n",
      "\n",
      "Iteration:  49%|████▉     | 40/82 [02:50<02:57,  4.24s/it]\u001b[A\n",
      "\n",
      "Iteration:  50%|█████     | 41/82 [02:54<02:52,  4.22s/it]\u001b[A\n",
      "\n",
      "Iteration:  51%|█████     | 42/82 [02:55<02:41,  4.03s/it]\u001b[A\n",
      "\n",
      "Iteration:  52%|█████▏    | 43/82 [02:58<02:35,  3.99s/it]\u001b[A\n",
      "\n",
      "Iteration:  54%|█████▎    | 44/82 [03:02<02:31,  3.98s/it]\u001b[A\n",
      "\n",
      "Iteration:  55%|█████▍    | 45/82 [03:05<02:26,  3.96s/it]\u001b[A\n",
      "\n",
      "Iteration:  56%|█████▌    | 46/82 [03:09<02:22,  3.96s/it]\u001b[A\n",
      "\n",
      "Iteration:  57%|█████▋    | 47/82 [03:13<02:18,  3.97s/it]\u001b[A\n",
      "\n",
      "Iteration:  59%|█████▊    | 48/82 [03:18<02:15,  3.98s/it]\u001b[A\n",
      "\n",
      "Iteration:  60%|█████▉    | 49/82 [03:22<02:11,  3.98s/it]\u001b[A\n",
      "\n",
      "Iteration:  61%|██████    | 50/82 [03:25<02:05,  3.92s/it]\u001b[A\n",
      "\n",
      "Iteration:  62%|██████▏   | 51/82 [03:28<02:01,  3.92s/it]\u001b[A\n",
      "\n",
      "Iteration:  63%|██████▎   | 52/82 [03:31<01:55,  3.86s/it]\u001b[A\n",
      "\n",
      "Iteration:  65%|██████▍   | 53/82 [03:33<01:49,  3.76s/it]\u001b[A\n",
      "\n",
      "Iteration:  66%|██████▌   | 54/82 [03:37<01:45,  3.76s/it]\u001b[A\n",
      "\n",
      "Iteration:  67%|██████▋   | 55/82 [03:41<01:42,  3.78s/it]\u001b[A\n",
      "\n",
      "Iteration:  68%|██████▊   | 56/82 [03:46<01:39,  3.82s/it]\u001b[A\n",
      "\n",
      "Iteration:  70%|██████▉   | 57/82 [03:51<01:37,  3.88s/it]\u001b[A\n",
      "\n",
      "Iteration:  71%|███████   | 58/82 [03:54<01:33,  3.88s/it]\u001b[A\n",
      "\n",
      "Iteration:  72%|███████▏  | 59/82 [03:58<01:29,  3.88s/it]\u001b[A\n",
      "\n",
      "Iteration:  73%|███████▎  | 60/82 [04:02<01:25,  3.87s/it]\u001b[A\n",
      "\n",
      "Iteration:  74%|███████▍  | 61/82 [04:06<01:21,  3.86s/it]\u001b[A\n",
      "\n",
      "Iteration:  76%|███████▌  | 62/82 [04:09<01:16,  3.83s/it]\u001b[A\n",
      "\n",
      "Iteration:  77%|███████▋  | 63/82 [04:13<01:12,  3.83s/it]\u001b[A\n",
      "\n",
      "Iteration:  78%|███████▊  | 64/82 [04:17<01:08,  3.82s/it]\u001b[A\n",
      "\n",
      "Iteration:  79%|███████▉  | 65/82 [04:21<01:05,  3.85s/it]\u001b[A\n",
      "\n",
      "Iteration:  80%|████████  | 66/82 [04:25<01:01,  3.85s/it]\u001b[A\n",
      "\n",
      "Iteration:  82%|████████▏ | 67/82 [04:29<00:57,  3.85s/it]\u001b[A\n",
      "\n",
      "Iteration:  83%|████████▎ | 68/82 [04:32<00:53,  3.85s/it]\u001b[A\n",
      "\n",
      "Iteration:  84%|████████▍ | 69/82 [04:36<00:50,  3.85s/it]\u001b[A\n",
      "\n",
      "Iteration:  85%|████████▌ | 70/82 [04:40<00:46,  3.86s/it]\u001b[A\n",
      "\n",
      "Iteration:  87%|████████▋ | 71/82 [04:44<00:42,  3.86s/it]\u001b[A\n",
      "\n",
      "Iteration:  88%|████████▊ | 72/82 [04:48<00:38,  3.85s/it]\u001b[A\n",
      "\n",
      "Iteration:  89%|████████▉ | 73/82 [04:51<00:34,  3.82s/it]\u001b[A\n",
      "\n",
      "Iteration:  90%|█████████ | 74/82 [04:55<00:30,  3.82s/it]\u001b[A\n",
      "\n",
      "Iteration:  91%|█████████▏| 75/82 [04:59<00:26,  3.81s/it]\u001b[A\n",
      "\n",
      "Iteration:  93%|█████████▎| 76/82 [05:02<00:22,  3.81s/it]\u001b[A\n",
      "\n",
      "Iteration:  94%|█████████▍| 77/82 [05:06<00:19,  3.80s/it]\u001b[A\n",
      "\n",
      "Iteration:  95%|█████████▌| 78/82 [05:10<00:15,  3.80s/it]\u001b[A\n",
      "\n",
      "Iteration:  96%|█████████▋| 79/82 [05:14<00:11,  3.80s/it]\u001b[A\n",
      "\n",
      "Iteration:  98%|█████████▊| 80/82 [05:17<00:07,  3.80s/it]\u001b[A\n",
      "\n",
      "Iteration:  99%|█████████▉| 81/82 [05:21<00:03,  3.80s/it]\u001b[A\n",
      "\n",
      "Iteration: 100%|██████████| 82/82 [05:23<00:00,  3.67s/it]\u001b[A\n",
      "Iteration: 100%|██████████| 82/82 [05:23<00:00,  3.94s/it]\n",
      "\n",
      "Epoch:  50%|█████     | 1/2 [05:23<05:23, 323.02s/it]\n",
      "\n",
      "Iteration:   0%|          | 0/82 [00:00<?, ?it/s]\u001b[A\n",
      "\n",
      "Iteration:   1%|          | 1/82 [00:03<05:16,  3.91s/it]\u001b[A\n",
      "\n",
      "Iteration:   2%|▏         | 2/82 [00:07<05:06,  3.83s/it]\u001b[A\n",
      "\n",
      "Iteration:   4%|▎         | 3/82 [00:11<05:01,  3.81s/it]\u001b[A\n",
      "\n",
      "Iteration:   5%|▍         | 4/82 [00:14<04:43,  3.63s/it]\u001b[A\n",
      "\n",
      "Iteration:   6%|▌         | 5/82 [00:18<04:45,  3.70s/it]\u001b[A\n",
      "\n",
      "Iteration:   7%|▋         | 6/82 [00:21<04:32,  3.58s/it]\u001b[A\n",
      "\n",
      "Iteration:   9%|▊         | 7/82 [00:25<04:30,  3.61s/it]\u001b[A\n",
      "\n",
      "Iteration:  10%|▉         | 8/82 [00:27<04:16,  3.46s/it]\u001b[A\n",
      "\n",
      "Iteration:  11%|█         | 9/82 [00:31<04:17,  3.53s/it]\u001b[A\n",
      "\n",
      "Iteration:  12%|█▏        | 10/82 [00:35<04:16,  3.56s/it]\u001b[A\n",
      "\n",
      "Iteration:  13%|█▎        | 11/82 [00:39<04:14,  3.58s/it]\u001b[A\n",
      "\n",
      "Iteration:  15%|█▍        | 12/82 [00:43<04:12,  3.61s/it]\u001b[A\n",
      "\n",
      "Iteration:  16%|█▌        | 13/82 [00:47<04:11,  3.64s/it]\u001b[A\n",
      "\n",
      "Iteration:  17%|█▋        | 14/82 [00:50<04:05,  3.61s/it]\u001b[A\n",
      "\n",
      "Iteration:  18%|█▊        | 15/82 [00:54<04:01,  3.61s/it]\u001b[A\n",
      "\n",
      "Iteration:  20%|█▉        | 16/82 [00:57<03:56,  3.58s/it]\u001b[A\n",
      "\n",
      "Iteration:  21%|██        | 17/82 [01:01<03:54,  3.60s/it]\u001b[A\n",
      "\n",
      "Iteration:  22%|██▏       | 18/82 [01:05<03:52,  3.63s/it]\u001b[A\n",
      "\n",
      "Iteration:  23%|██▎       | 19/82 [01:08<03:44,  3.57s/it]\u001b[A\n",
      "\n",
      "Iteration:  24%|██▍       | 20/82 [01:11<03:42,  3.59s/it]\u001b[A\n",
      "\n",
      "Iteration:  26%|██▌       | 21/82 [01:15<03:39,  3.59s/it]\u001b[A\n",
      "\n",
      "Iteration:  27%|██▋       | 22/82 [01:19<03:36,  3.61s/it]\u001b[A\n",
      "\n",
      "Iteration:  28%|██▊       | 23/82 [01:23<03:34,  3.63s/it]\u001b[A\n",
      "\n",
      "Iteration:  29%|██▉       | 24/82 [01:26<03:30,  3.63s/it]\u001b[A\n",
      "\n",
      "Iteration:  30%|███       | 25/82 [01:30<03:27,  3.65s/it]\u001b[A\n",
      "\n",
      "Iteration:  32%|███▏      | 26/82 [01:34<03:24,  3.66s/it]\u001b[A\n",
      "\n",
      "Iteration:  33%|███▎      | 27/82 [01:38<03:21,  3.66s/it]\u001b[A\n",
      "\n",
      "Iteration:  34%|███▍      | 28/82 [01:42<03:18,  3.67s/it]\u001b[A\n",
      "\n",
      "Iteration:  35%|███▌      | 29/82 [01:45<03:14,  3.68s/it]\u001b[A\n",
      "\n",
      "Iteration:  37%|███▋      | 30/82 [01:49<03:11,  3.68s/it]\u001b[A\n",
      "\n",
      "Iteration:  38%|███▊      | 31/82 [01:53<03:08,  3.69s/it]\u001b[A\n",
      "\n",
      "Iteration:  39%|███▉      | 32/82 [01:57<03:04,  3.69s/it]\u001b[A\n",
      "\n",
      "Iteration:  40%|████      | 33/82 [01:58<02:54,  3.57s/it]\u001b[A\n",
      "\n",
      "Iteration:  41%|████▏     | 34/82 [02:02<02:51,  3.57s/it]\u001b[A\n",
      "\n",
      "Iteration:  43%|████▎     | 35/82 [02:06<02:48,  3.58s/it]\u001b[A\n",
      "\n",
      "Iteration:  44%|████▍     | 36/82 [02:10<02:45,  3.60s/it]\u001b[A\n",
      "\n",
      "Iteration:  45%|████▌     | 37/82 [02:14<02:43,  3.63s/it]\u001b[A\n",
      "\n",
      "Iteration:  46%|████▋     | 38/82 [02:17<02:40,  3.64s/it]\u001b[A\n",
      "\n",
      "Iteration:  48%|████▊     | 39/82 [02:21<02:36,  3.64s/it]\u001b[A\n",
      "\n",
      "Iteration:  49%|████▉     | 40/82 [02:25<02:33,  3.64s/it]\u001b[A\n",
      "\n",
      "Iteration:  50%|█████     | 41/82 [02:29<02:29,  3.65s/it]\u001b[A\n",
      "\n",
      "Iteration:  51%|█████     | 42/82 [02:32<02:25,  3.64s/it]\u001b[A\n",
      "\n",
      "Iteration:  52%|█████▏    | 43/82 [02:36<02:22,  3.65s/it]\u001b[A\n",
      "\n",
      "Iteration:  54%|█████▎    | 44/82 [02:40<02:19,  3.66s/it]\u001b[A\n",
      "\n",
      "Iteration:  55%|█████▍    | 45/82 [02:43<02:14,  3.64s/it]\u001b[A\n",
      "\n",
      "Iteration:  56%|█████▌    | 46/82 [02:47<02:11,  3.66s/it]\u001b[A\n",
      "\n",
      "Iteration:  57%|█████▋    | 47/82 [02:51<02:08,  3.67s/it]\u001b[A\n",
      "\n",
      "Iteration:  59%|█████▊    | 48/82 [02:55<02:05,  3.68s/it]\u001b[A\n",
      "\n",
      "Iteration:  60%|█████▉    | 49/82 [02:59<02:01,  3.69s/it]\u001b[A\n",
      "\n",
      "Iteration:  61%|██████    | 50/82 [03:02<01:58,  3.70s/it]\u001b[A\n",
      "\n",
      "Iteration:  62%|██████▏   | 51/82 [03:06<01:54,  3.69s/it]\u001b[A\n",
      "\n",
      "Iteration:  63%|██████▎   | 52/82 [03:10<01:50,  3.70s/it]\u001b[A\n",
      "\n",
      "Iteration:  65%|██████▍   | 53/82 [03:14<01:47,  3.71s/it]\u001b[A\n",
      "\n",
      "Iteration:  66%|██████▌   | 54/82 [03:16<01:42,  3.64s/it]\u001b[A\n",
      "\n",
      "Iteration:  67%|██████▋   | 55/82 [03:20<01:38,  3.65s/it]\u001b[A\n",
      "\n",
      "Iteration:  68%|██████▊   | 56/82 [03:24<01:34,  3.65s/it]\u001b[A\n",
      "\n",
      "Iteration:  70%|██████▉   | 57/82 [03:27<01:30,  3.62s/it]\u001b[A\n",
      "\n",
      "Iteration:  71%|███████   | 58/82 [03:30<01:26,  3.61s/it]\u001b[A\n",
      "\n",
      "Iteration:  72%|███████▏  | 59/82 [03:33<01:22,  3.58s/it]\u001b[A\n",
      "\n",
      "Iteration:  73%|███████▎  | 60/82 [03:37<01:18,  3.59s/it]\u001b[A\n",
      "\n",
      "Iteration:  74%|███████▍  | 61/82 [03:41<01:15,  3.60s/it]\u001b[A\n",
      "\n",
      "Iteration:  76%|███████▌  | 62/82 [03:44<01:12,  3.60s/it]\u001b[A\n",
      "\n",
      "Iteration:  77%|███████▋  | 63/82 [03:48<01:08,  3.61s/it]\u001b[A\n",
      "\n",
      "Iteration:  78%|███████▊  | 64/82 [03:52<01:05,  3.62s/it]\u001b[A\n",
      "\n",
      "Iteration:  79%|███████▉  | 65/82 [03:55<01:01,  3.61s/it]\u001b[A\n",
      "\n",
      "Iteration:  80%|████████  | 66/82 [03:59<00:57,  3.61s/it]\u001b[A\n",
      "\n",
      "Iteration:  82%|████████▏ | 67/82 [04:03<00:54,  3.62s/it]\u001b[A\n",
      "\n",
      "Iteration:  83%|████████▎ | 68/82 [04:07<00:50,  3.64s/it]\u001b[A\n",
      "\n",
      "Iteration:  84%|████████▍ | 69/82 [04:10<00:47,  3.62s/it]\u001b[A\n",
      "\n",
      "Iteration:  85%|████████▌ | 70/82 [04:14<00:43,  3.63s/it]\u001b[A\n",
      "\n",
      "Iteration:  87%|████████▋ | 71/82 [04:16<00:38,  3.54s/it]\u001b[A\n",
      "\n",
      "Iteration:  88%|████████▊ | 72/82 [04:19<00:35,  3.55s/it]\u001b[A\n",
      "\n",
      "Iteration:  89%|████████▉ | 73/82 [04:23<00:32,  3.57s/it]\u001b[A\n",
      "\n",
      "Iteration:  90%|█████████ | 74/82 [04:27<00:28,  3.58s/it]\u001b[A\n",
      "\n",
      "Iteration:  91%|█████████▏| 75/82 [04:31<00:25,  3.59s/it]\u001b[A\n",
      "\n",
      "Iteration:  93%|█████████▎| 76/82 [04:35<00:21,  3.59s/it]\u001b[A\n",
      "\n",
      "Iteration:  94%|█████████▍| 77/82 [04:38<00:17,  3.60s/it]\u001b[A\n",
      "\n",
      "Iteration:  95%|█████████▌| 78/82 [04:42<00:14,  3.60s/it]\u001b[A\n",
      "\n",
      "Iteration:  96%|█████████▋| 79/82 [04:46<00:10,  3.61s/it]\u001b[A\n",
      "\n",
      "Iteration:  98%|█████████▊| 80/82 [04:49<00:07,  3.62s/it]\u001b[A\n",
      "\n",
      "Iteration:  99%|█████████▉| 81/82 [04:53<00:03,  3.63s/it]\u001b[A\n",
      "\n",
      "Iteration: 100%|██████████| 82/82 [04:54<00:00,  3.50s/it]\u001b[A\n",
      "Iteration: 100%|██████████| 82/82 [04:54<00:00,  3.60s/it]\n",
      "\n",
      "Epoch: 100%|██████████| 2/2 [10:17<00:00, 306.47s/it]\n",
      "Epoch: 100%|██████████| 2/2 [10:17<00:00, 308.95s/it]\n",
      "\n",
      "[dev] rerank:   0%|          | 0/11 [00:00<?, ?it/s]\n",
      "[dev] rerank:   9%|▉         | 1/11 [00:00<00:04,  2.28it/s]\n",
      "[dev] rerank:  18%|█▊        | 2/11 [00:00<00:03,  2.54it/s]\n",
      "[dev] rerank:  27%|██▋       | 3/11 [00:01<00:02,  2.72it/s]\n",
      "[dev] rerank:  36%|███▋      | 4/11 [00:01<00:02,  2.69it/s]\n",
      "[dev] rerank:  45%|████▌     | 5/11 [00:01<00:01,  3.40it/s]\n",
      "[dev] rerank:  55%|█████▍    | 6/11 [00:02<00:01,  3.14it/s]\n",
      "[dev] rerank:  64%|██████▎   | 7/11 [00:02<00:01,  2.90it/s]\n",
      "[dev] rerank:  73%|███████▎  | 8/11 [00:02<00:01,  2.74it/s]\n",
      "[dev] rerank:  82%|████████▏ | 9/11 [00:03<00:00,  2.66it/s]\n",
      "[dev] rerank:  91%|█████████ | 10/11 [00:03<00:00,  2.78it/s]\n",
      "[dev] rerank: 100%|██████████| 11/11 [00:03<00:00,  2.63it/s]\n",
      "                                                             \n",
      "[dev metrics] {'mrr@10': 0.9090909090909091, 'recall@10': 1.0, 'top1': 0.8181818181818182, 'n': 11}\n",
      "[OK] saved reranker → D:\\IIT BBS\\Job Resources\\Business Optima\\pdf-agent\\outputs\\reranker\\title17\n",
      "\n",
      "[proc exit code] 0\n"
     ]
    }
   ],
   "source": [
    "import subprocess, sys, shlex\n",
    "from pathlib import Path\n",
    "\n",
    "LOCAL_CE = ROOT / \"models\" / \"msmarco-minilm-l6-v2\"\n",
    "\n",
    "base_ce_id = str(LOCAL_CE if LOCAL_CE.exists() else \"cross-encoder/ms-marco-MiniLM-L-6-v2\")\n",
    "print(\"[info] using base CE:\", base_ce_id)\n",
    "\n",
    "args = [\n",
    "    sys.executable, str(ROOT / \"src/train/train_reranker.py\"),\n",
    "    \"--train_pairs\", str(PAIRS_DIR / \"train.pairs.jsonl\"),\n",
    "    \"--dev_pairs\",   str(PAIRS_DIR / \"dev.pairs.jsonl\"),\n",
    "    \"--base_ce\",     \"cross-encoder/ms-marco-MiniLM-L-6-v2\",\n",
    "    \"--local_base_dir\", base_ce_id,\n",
    "    \"--out_dir\",     str(OUT_RR),\n",
    "    \"--epochs\",      \"2\",\n",
    "    \"--batch_size\",  \"8\",\n",
    "    \"--lr\",          \"2e-5\",\n",
    "    \"--max_len\",     \"384\",\n",
    "]\n",
    "\n",
    "print(\"Launching:\", \" \".join(map(shlex.quote, args)))\n",
    "proc = subprocess.Popen(args, stdout=subprocess.PIPE, stderr=subprocess.STDOUT, text=True)\n",
    "for line in proc.stdout:\n",
    "    print(line, end=\"\")\n",
    "code = proc.wait()\n",
    "print(\"\\n[proc exit code]\", code)\n",
    "if code != 0:\n",
    "    raise RuntimeError(\"Reranker training failed\")"
   ]
  },
  {
   "cell_type": "markdown",
   "id": "a2370dcf",
   "metadata": {},
   "source": [
    "### **5) Smoke test: BM25 → rerank top-k**"
   ]
  },
  {
   "cell_type": "code",
   "execution_count": null,
   "id": "b7a39fb2",
   "metadata": {},
   "outputs": [
    {
     "name": "stderr",
     "output_type": "stream",
     "text": [
      "d:\\Anaconda\\envs\\pdf-agent-2\\Lib\\site-packages\\sentence_transformers\\cross_encoder\\CrossEncoder.py:11: TqdmExperimentalWarning: Using `tqdm.autonotebook.tqdm` in notebook mode. Use `tqdm.tqdm` instead to force console mode (e.g. in jupyter console)\n",
      "  from tqdm.autonotebook import tqdm, trange\n"
     ]
    },
    {
     "name": "stdout",
     "output_type": "stream",
     "text": [
      "Loaded chunks: 2683\n",
      "\n",
      "Query: Summarize the section:\n",
      "Heading: Copyright Law United States Copyri > (E) Musical works database .-\n",
      "Summarize as 12–15 detailed bullet points. End with [pp. 98–134].\n",
      "\n",
      "#1  score=1.8890\n",
      "Copyright Law United States Copyri…\n",
      "\n",
      "#2  score=-0.2237\n",
      "(E) Musical works database .-…\n",
      "\n",
      "#3  score=-2.9829\n",
      "- (e) Copyright Office Activities .-The Register of Copyrights shall engage in public outreach and educational activities-\n",
      "- (1) regarding the amendments made by subsection (a) to section 115 of title 17, United States Code, including the responsibilities of the mechanical licensing collective designated under those amendments;\n",
      "- (2) which shall include educating songwriters and other interested parties with respect to the process established under section 115(d)(3)(C)(i)(V) of title 17, United States Code, as added by subsection (a), by which-\n",
      "- (A) a copyright owner may claim ownership of musical works (and shares of such works); and\n",
      "- (B) royalties for works for which the owner is not identified or located shall be equitably distributed to known copyright owners; and (3) which the Regis…\n"
     ]
    }
   ],
   "source": [
    "import json, re\n",
    "from pathlib import Path\n",
    "from rank_bm25 import BM25Okapi\n",
    "from sentence_transformers import CrossEncoder\n",
    "\n",
    "def tokenize(s: str):\n",
    "    return re.findall(r\"[A-Za-z0-9_]+\", (s or \"\").lower())\n",
    "\n",
    "corpus = []\n",
    "for fp in sorted(CHUNKS.glob(\"*.jsonl\")):\n",
    "    with open(fp, \"r\", encoding=\"utf-8\") as f:\n",
    "        for line in f:\n",
    "            obj = json.loads(line)\n",
    "            text = obj.get(\"text\") or obj.get(\"content\") or \"\"\n",
    "            if text.strip():\n",
    "                corpus.append(text)\n",
    "\n",
    "print(\"Loaded chunks:\", len(corpus))\n",
    "bm25 = BM25Okapi([tokenize(t) for t in corpus])\n",
    "\n",
    "reranker = CrossEncoder(str(OUT_RR), device=\"cpu\")\n",
    "\n",
    "def extract_query_from_row(obj: dict) -> str | None:\n",
    "    msgs = obj.get(\"messages\")\n",
    "    if isinstance(msgs, list):\n",
    "        last_user = \"\"\n",
    "        for m in msgs:\n",
    "            if (m.get(\"role\") or \"\").lower() == \"user\":\n",
    "                last_user = (m.get(\"content\") or \"\").strip()\n",
    "        if last_user:\n",
    "            return last_user\n",
    "    q = obj.get(\"instruction\") or obj.get(\"question\")\n",
    "    if isinstance(q, str) and len(q.strip()) > 0:\n",
    "        return q.strip()\n",
    "    return None\n",
    "\n",
    "def search(query: str, k_bm25=20, k_final=3):\n",
    "    scores = bm25.get_scores(tokenize(query))\n",
    "    idxs   = sorted(range(len(corpus)), key=lambda i: scores[i], reverse=True)[:k_bm25]\n",
    "    cands  = [corpus[i] for i in idxs]\n",
    "    pairs  = [[query, c] for c in cands]\n",
    "    ce_scores = reranker.predict(pairs)\n",
    "    ranked = sorted(zip(cands, ce_scores), key=lambda x: x[1], reverse=True)\n",
    "    return ranked[:k_final]\n",
    "\n",
    "test_json = SFT_DIR / \"test.jsonl\"\n",
    "sample_q = None\n",
    "if test_json.exists():\n",
    "    with open(test_json, \"r\", encoding=\"utf-8\") as f:\n",
    "        for line in f:\n",
    "            try:\n",
    "                obj = json.loads(line)\n",
    "            except Exception:\n",
    "                continue\n",
    "            q = extract_query_from_row(obj)\n",
    "            if q and len(q) > 30:\n",
    "                sample_q = q\n",
    "                break\n",
    "\n",
    "sample_q = sample_q or \"What does § 114 say about performance rights? End with [pp. 67–88].\"\n",
    "print(\"\\nQuery:\", sample_q)\n",
    "for i, (text, s) in enumerate(search(sample_q), 1):\n",
    "    print(f\"\\n#{i}  score={float(s):.4f}\\n{text[:800]}…\")\n"
   ]
  }
 ],
 "metadata": {
  "kernelspec": {
   "display_name": "pdf-agent-2",
   "language": "python",
   "name": "python3"
  },
  "language_info": {
   "codemirror_mode": {
    "name": "ipython",
    "version": 3
   },
   "file_extension": ".py",
   "mimetype": "text/x-python",
   "name": "python",
   "nbconvert_exporter": "python",
   "pygments_lexer": "ipython3",
   "version": "3.11.13"
  }
 },
 "nbformat": 4,
 "nbformat_minor": 5
}
