{
 "cells": [
  {
   "cell_type": "markdown",
   "id": "b1cabac9",
   "metadata": {},
   "source": [
    "### **Root + prompts check**"
   ]
  },
  {
   "cell_type": "code",
   "execution_count": 1,
   "id": "a76b3ecf",
   "metadata": {},
   "outputs": [
    {
     "name": "stdout",
     "output_type": "stream",
     "text": [
      "ROOT: D:\\IIT BBS\\Job Resources\\Business Optima\\pdf-agent\n",
      "Python: 3.11.13\n"
     ]
    }
   ],
   "source": [
    "from pathlib import Path\n",
    "import sys, os, platform\n",
    "\n",
    "CWD  = Path.cwd().resolve()\n",
    "ROOT = CWD if (CWD / \"src\").exists() else CWD.parent\n",
    "if str(ROOT) not in sys.path: sys.path.append(str(ROOT))\n",
    "\n",
    "print(\"ROOT:\", ROOT)\n",
    "print(\"Python:\", platform.python_version())"
   ]
  },
  {
   "cell_type": "code",
   "execution_count": 2,
   "id": "af73b2ff",
   "metadata": {},
   "outputs": [
    {
     "name": "stdout",
     "output_type": "stream",
     "text": [
      "[ok] D:\\IIT BBS\\Job Resources\\Business Optima\\pdf-agent\\configs\\prompts\\system.txt\n",
      "[ok] D:\\IIT BBS\\Job Resources\\Business Optima\\pdf-agent\\configs\\prompts\\style_rules.txt\n",
      "[ok] D:\\IIT BBS\\Job Resources\\Business Optima\\pdf-agent\\configs\\prompts\\answer_with_citations.txt\n"
     ]
    }
   ],
   "source": [
    "PROMPTS = ROOT / \"configs\" / \"prompts\"\n",
    "PROMPTS.mkdir(parents=True, exist_ok=True)\n",
    "\n",
    "need = {\n",
    "    \"system.txt\": \"\"\"<PASTE THE system.txt CONTENT FROM THE ANSWER>\"\"\",\n",
    "    \"style_rules.txt\": \"\"\"<PASTE THE style_rules.txt CONTENT FROM THE ANSWER>\"\"\",\n",
    "    \"answer_with_citations.txt\": \"\"\"<PASTE THE answer_with_citations.txt CONTENT FROM THE ANSWER>\"\"\",\n",
    "}\n",
    "\n",
    "for name, txt in need.items():\n",
    "    fp = PROMPTS / name\n",
    "    if not fp.exists() or fp.stat().st_size == 0:\n",
    "        fp.write_text(txt.strip() + \"\\n\", encoding=\"utf-8\")\n",
    "        print(\"[created]\", fp)\n",
    "    else:\n",
    "        print(\"[ok]\", fp)"
   ]
  },
  {
   "cell_type": "markdown",
   "id": "6c0ac332",
   "metadata": {},
   "source": [
    "### **Config sanity**"
   ]
  },
  {
   "cell_type": "code",
   "execution_count": 3,
   "id": "7c6b9a29",
   "metadata": {},
   "outputs": [
    {
     "name": "stdout",
     "output_type": "stream",
     "text": [
      "Base model dir     : D:\\IIT BBS\\Job Resources\\Business Optima\\pdf-agent\\models\\Qwen2.5-1.5B-Instruct\n",
      "Adapter dir        : D:\\IIT BBS\\Job Resources\\Business Optima\\pdf-agent\\outputs\\lora_hf\\title17\\adapter\n",
      "Reranker dir       : D:\\IIT BBS\\Job Resources\\Business Optima\\pdf-agent\\outputs\\reranker\\title17\n",
      "Graph dir          : D:\\IIT BBS\\Job Resources\\Business Optima\\pdf-agent\\outputs\\graph\\graph\n",
      "Chunks dir         : D:\\IIT BBS\\Job Resources\\Business Optima\\pdf-agent\\data\\chunks\n",
      "Sessions dir       : D:\\IIT BBS\\Job Resources\\Business Optima\\pdf-agent\\outputs\\sessions\n",
      "SQLite path        : D:\\IIT BBS\\Job Resources\\Business Optima\\pdf-agent\\outputs\\logs\\agent.sqlite\n",
      "Retrieval knobs    : 40 6 12 6\n",
      "Gen knobs          : 320 0.1\n"
     ]
    }
   ],
   "source": [
    "from src.agent.config import CFG\n",
    "print(\"Base model dir     :\", CFG.base_model_dir)\n",
    "print(\"Adapter dir        :\", CFG.adapter_dir)\n",
    "print(\"Reranker dir       :\", CFG.reranker_dir)\n",
    "print(\"Graph dir          :\", CFG.graph_dir)\n",
    "print(\"Chunks dir         :\", CFG.chunks_dir)\n",
    "print(\"Sessions dir       :\", CFG.sessions_dir)\n",
    "print(\"SQLite path        :\", CFG.sqlite_path)\n",
    "print(\"Retrieval knobs    :\", CFG.k_nodes, CFG.k_final_nodes, CFG.k_each_node, CFG.k_final_chunks)\n",
    "print(\"Gen knobs          :\", CFG.max_new_tokens, CFG.temperature)"
   ]
  },
  {
   "cell_type": "markdown",
   "id": "bbb2c9aa",
   "metadata": {},
   "source": [
    "### **Policy checks**"
   ]
  },
  {
   "cell_type": "code",
   "execution_count": 4,
   "id": "449b6a80",
   "metadata": {},
   "outputs": [
    {
     "name": "stdout",
     "output_type": "stream",
     "text": [
      "write a python script to scrape facebook      -> allow=False (out-of-scope)\n",
      "What does §107 say about fair use?            -> allow=True (matched copyright lexicon)\n",
      "explain patents in india                      -> allow=False (out-of-scope)\n",
      "In Title 17, what’s the compulsory license ru -> allow=True (matched title17 pattern)\n"
     ]
    }
   ],
   "source": [
    "from src.agent.policy import guard_title17_scope\n",
    "\n",
    "tests = [\n",
    "    \"write a python script to scrape facebook\",\n",
    "    \"What does §107 say about fair use?\",\n",
    "    \"explain patents in india\",\n",
    "    \"In Title 17, what’s the compulsory license rule in §115?\"\n",
    "]\n",
    "for t in tests:\n",
    "    gd = guard_title17_scope(t)\n",
    "    print(f\"{t[:45]:45} -> allow={gd.allow} ({gd.reason})\")"
   ]
  },
  {
   "cell_type": "markdown",
   "id": "a4298a7e",
   "metadata": {},
   "source": [
    "### **Retrieval sanity (BM25→CE)**"
   ]
  },
  {
   "cell_type": "code",
   "execution_count": 5,
   "id": "4efe6c4a",
   "metadata": {},
   "outputs": [
    {
     "name": "stdout",
     "output_type": "stream",
     "text": [
      "hits: 5\n",
      "\n",
      "#1 score=0.507 node=SEC-00017 chunk=title17-h-342 pages=[]\n",
      "§ 114 · Scope of exclusive rights in sound recordings 48\n",
      "\n",
      "#2 score=-0.890 node=SEC-00019 chunk=title17-h-689 pages=[]\n",
      "§ 116 · Negotiated licenses for public performances by means of coin-operated phonorecord players 53\n",
      "\n",
      "#3 score=-1.469 node=SEC-00016 chunk=title17-h-328 pages=[]\n",
      "§ 113 · Scope of exclusive rights in pictorial, graphic, and sculptural works 47\n",
      "\n",
      "#4 score=-1.862 node=SEC-00015 chunk=title17-h-307 pages=[]\n",
      "§ 112 · Limitations on exclusive rights: Ephemeral recordings 46\n",
      "\n",
      "#5 score=-1.915 node=SEC-00013 chunk=title17-h-220 pages=[]\n",
      "§ 110 · Limitations on exclusive rights: Exemption of certain performances and displays 43\n"
     ]
    }
   ],
   "source": [
    "from src.agent.retriever import HierBM25CEReranker\n",
    "\n",
    "retr = HierBM25CEReranker()\n",
    "q = \"Summarize § 114 performance rights caveat. End with [pp. 67–88].\"\n",
    "hits = retr.search(q, k_nodes=40, k_final_nodes=6, k_each_node=12, k_final_chunks=5)\n",
    "print(\"hits:\", len(hits))\n",
    "for i, h in enumerate(hits, 1):\n",
    "    snip = (h[\"text\"][:300] + \"…\") if len(h[\"text\"]) > 300 else h[\"text\"]\n",
    "    print(f\"\\n#{i} score={h['score']:.3f} node={h['node_id']} chunk={h['chunk_id']} pages={h['pages']}\")\n",
    "    print(snip)"
   ]
  },
  {
   "cell_type": "markdown",
   "id": "6989d586",
   "metadata": {},
   "source": [
    "### **Core LLM streaming (closed-book+contexts)**"
   ]
  },
  {
   "cell_type": "code",
   "execution_count": null,
   "id": "672b0439",
   "metadata": {},
   "outputs": [
    {
     "name": "stderr",
     "output_type": "stream",
     "text": [
      "The following generation flags are not valid and may be ignored: ['temperature', 'top_p', 'top_k']. Set `TRANSFORMERS_VERBOSITY=info` for more details.\n"
     ]
    },
    {
     "name": "stdout",
     "output_type": "stream",
     "text": [
      "---- streaming ----\n",
      "\n",
      " Answer:\n",
      "A performance or display of a work under subsection (a)(1), (2), (3), (5), or (7) is fair use if - \n",
      "\n",
      "- The primary purpose or character of the use, including whether the use is of commercial advantage, and \n",
      "- The amount and significance of the portion used relative to the whole.\n",
      "\n",
      "[done]\n"
     ]
    }
   ],
   "source": [
    "from src.agent.llms import load_core_llm, stream_generate\n",
    "from src.agent.prompts import load_prompts, build_rag_prompt\n",
    "\n",
    "core = load_core_llm()\n",
    "pb = load_prompts()\n",
    "\n",
    "contexts = hits[:3]\n",
    "prompt = build_rag_prompt(\"What does §107 say about fair use? End with [pp. 40–41].\", contexts, pb)\n",
    "\n",
    "print(\"---- streaming ----\\n\")\n",
    "for tok in stream_generate(core, prompt, max_new_tokens=220, temperature=0.0):\n",
    "    print(tok, end=\"\", flush=True)\n",
    "print(\"\\n\\n[done]\")"
   ]
  },
  {
   "cell_type": "markdown",
   "id": "f45d5219",
   "metadata": {},
   "source": [
    "### **Reinit DB - logger bootstrap + event test**"
   ]
  },
  {
   "cell_type": "code",
   "execution_count": 7,
   "id": "c938fcfa",
   "metadata": {},
   "outputs": [
    {
     "name": "stdout",
     "output_type": "stream",
     "text": [
      "[db] reinitialized: D:\\IIT BBS\\Job Resources\\Business Optima\\pdf-agent\\outputs\\logs\\agent.sqlite\n"
     ]
    }
   ],
   "source": [
    "from src.agent.config import CFG\n",
    "from src.agent.logger import EventLogger\n",
    "import os\n",
    "\n",
    "if os.path.exists(CFG.sqlite_path):\n",
    "    os.remove(CFG.sqlite_path)\n",
    "elog = EventLogger()\n",
    "elog.log_event(\"bootstrap\", {\"note\": \"fresh init\"})\n",
    "print(\"[db] reinitialized:\", elog.path)"
   ]
  },
  {
   "cell_type": "markdown",
   "id": "2a19b83a",
   "metadata": {},
   "source": [
    "### **One streaming turn**"
   ]
  },
  {
   "cell_type": "code",
   "execution_count": 8,
   "id": "6db0dcfc",
   "metadata": {},
   "outputs": [
    {
     "name": "stderr",
     "output_type": "stream",
     "text": [
      "D:\\IIT BBS\\Job Resources\\Business Optima\\pdf-agent\\src\\agent\\memory.py:57: LangChainDeprecationWarning: The class `ChatOllama` was deprecated in LangChain 0.3.1 and will be removed in 1.0.0. An updated version of the class exists in the :class:`~langchain-ollama package and should be used instead. To use it run `pip install -U :class:`~langchain-ollama` and import as `from :class:`~langchain_ollama import ChatOllama``.\n",
      "  llm = ChatOllama(model=CFG.ollama_summarizer, temperature=0.2)\n",
      "D:\\IIT BBS\\Job Resources\\Business Optima\\pdf-agent\\src\\agent\\memory.py:58: LangChainDeprecationWarning: Please see the migration guide at: https://python.langchain.com/docs/versions/migrating_memory/\n",
      "  return ConversationSummaryBufferMemory(\n"
     ]
    },
    {
     "name": "stdout",
     "output_type": "stream",
     "text": [
      "[session] sess-63dbd528\n",
      "[user] What does §107 say about fair use? End with [pp. 40–41]. \n",
      "\n",
      " Answer:\n",
      "The fair use doctrine allows reproduction of copyrighted works under certain conditions, including transmission of instructional materials to students. Reproduction from certain classes, including law classes, is specifically covered (§104A(1)(B)). The purpose of reproduction must be factored into a subjective determination of whether fair use was made (§106(3)).\n",
      "\n",
      "Citations:\n",
      "- [pp. 31–33]\n",
      "\n",
      "[FINAL]\n",
      " Answer:\n",
      "The fair use doctrine allows reproduction of copyrighted works under certain conditions, including transmission of instructional materials to students. Reproduction from certain classes, including law classes, is specifically covered (§104A(1)(B)). The purpose of reproduction must be factored into a subjective determination of whether fair use was made (§106(3)).\n",
      "\n",
      "Citations:\n",
      "- [pp. 31–33]\n",
      "\n",
      "[CITATIONS]\n",
      "{'chunk_id': 'title17-h-193', 'node_id': 'SEC-00010', 'section': '', 'pages': [], 'score': 5.295541763305664}\n",
      "{'chunk_id': 'title17-h-134', 'node_id': 'SEC-00006', 'section': '', 'pages': [], 'score': -3.1787784099578857}\n",
      "{'chunk_id': 'title17-h-127', 'node_id': 'SEC-00005', 'section': '', 'pages': [], 'score': -3.494260787963867}\n",
      "{'chunk_id': 'title17-h-186', 'node_id': 'SEC-00009', 'section': '', 'pages': [], 'score': -4.470468997955322}\n",
      "{'chunk_id': 'title17-h-197', 'node_id': 'SEC-00011', 'section': '', 'pages': [], 'score': -4.4941205978393555}\n",
      "{'chunk_id': 'title17-h-181', 'node_id': 'SEC-00008', 'section': '', 'pages': [], 'score': -5.929725170135498}\n"
     ]
    },
    {
     "data": {
      "text/plain": [
       "('sess-63dbd528',\n",
       " ' Answer:\\nThe fair use doctrine allows reproduction of copyrighted works under certain conditions, including transmission of instructional materials to students. Reproduction from certain classes, including law classes, is specifically covered (§104A(1)(B)). The purpose of reproduction must be factored into a subjective determination of whether fair use was made (§106(3)).\\n\\nCitations:\\n- [pp. 31–33]')"
      ]
     },
     "execution_count": 8,
     "metadata": {},
     "output_type": "execute_result"
    }
   ],
   "source": [
    "import uuid\n",
    "from src.agent.orchestrator import Title17Agent\n",
    "\n",
    "async def run_once(question: str):\n",
    "    agent = Title17Agent()\n",
    "    session_id = f\"sess-{uuid.uuid4().hex[:8]}\"\n",
    "    print(\"[session]\", session_id)\n",
    "    print(\"[user]\", question, \"\\n\")\n",
    "    final = []\n",
    "    async for ev in agent.achat_stream(session_id, question):\n",
    "        if ev[\"type\"] == \"token\":\n",
    "            print(ev[\"text\"], end=\"\", flush=True)\n",
    "            final.append(ev[\"text\"])\n",
    "        elif ev[\"type\"] == \"final\":\n",
    "            print(\"\\n\\n[FINAL]\\n\", ev[\"text\"])\n",
    "            if ev.get(\"citations\"):\n",
    "                print(\"\\n[CITATIONS]\")\n",
    "                for c in ev[\"citations\"]:\n",
    "                    print(c)\n",
    "        elif ev[\"type\"] == \"error\":\n",
    "            print(\"\\n[ERROR]\", ev[\"text\"])\n",
    "    return session_id, \"\".join(final)\n",
    "\n",
    "await run_once(\"What does §107 say about fair use? End with [pp. 40–41].\")\n"
   ]
  },
  {
   "cell_type": "markdown",
   "id": "31ca30d7",
   "metadata": {},
   "source": [
    "### **Sessions + DB contents**"
   ]
  },
  {
   "cell_type": "code",
   "execution_count": 9,
   "id": "ef0f99ce",
   "metadata": {},
   "outputs": [
    {
     "name": "stdout",
     "output_type": "stream",
     "text": [
      "sessions: ['sess-63dbd528.json', 'sess-defdc095.json']\n",
      "\n",
      "[last session sample]\n",
      "{\n",
      "  \"session_id\": \"sess-defdc095\",\n",
      "  \"created\": 1756032209.200745,\n",
      "  \"messages\": [\n",
      "    {\n",
      "      \"ts\": 1756032209.200745,\n",
      "      \"role\": \"user\",\n",
      "      \"content\": \"What does \\u00a7107 say about fair use? End with [pp. 40\\u201341].\"\n",
      "    }\n",
      "  ]\n",
      "}\n",
      "conversations: 1 rows\n",
      "messages: 2 rows\n",
      "events: 2 rows\n",
      "\n",
      "[last 5 events]\n",
      "(1756032824.9794493, 'retrieve_done', '{\"session_id\": \"sess-63dbd528\", \"n_hits\": 6}')\n",
      "(1756032818.9491704, 'bootstrap', '{\"note\": \"fresh init\"}')\n"
     ]
    }
   ],
   "source": [
    "import json, sqlite3\n",
    "from src.agent.config import CFG\n",
    "\n",
    "sess_files = sorted(CFG.sessions_dir.glob(\"sess-*.json\"))\n",
    "print(\"sessions:\", [f.name for f in sess_files][-3:])\n",
    "if sess_files:\n",
    "    data = json.loads(sess_files[-1].read_text(encoding=\"utf-8\"))\n",
    "    print(\"\\n[last session sample]\")\n",
    "    print(json.dumps(data, indent=2)[:1000])\n",
    "\n",
    "con = sqlite3.connect(CFG.sqlite_path)\n",
    "cur = con.cursor()\n",
    "for table in [\"conversations\", \"messages\", \"events\"]:\n",
    "    try:\n",
    "        row = cur.execute(f\"SELECT COUNT(*) FROM {table}\").fetchone()\n",
    "        print(f\"{table}: {row[0]} rows\")\n",
    "    except Exception as e:\n",
    "        print(f\"{table}: (not found) {e}\")\n",
    "\n",
    "print(\"\\n[last 5 events]\")\n",
    "try:\n",
    "    for r in cur.execute(\"SELECT ts,event,substr(payload,1,120) FROM events ORDER BY id DESC LIMIT 5\"):\n",
    "        print(r)\n",
    "except Exception as e:\n",
    "    print(\"(no events) ->\", e)\n",
    "con.close()\n"
   ]
  },
  {
   "cell_type": "markdown",
   "id": "1f1169f5",
   "metadata": {},
   "source": [
    "### **DB state inspection**"
   ]
  },
  {
   "cell_type": "code",
   "execution_count": 10,
   "id": "a37c9f97",
   "metadata": {},
   "outputs": [
    {
     "name": "stdout",
     "output_type": "stream",
     "text": [
      "conversations: 1 rows\n",
      "messages: 2 rows\n",
      "events: 2 rows\n",
      "\n",
      "[last 5 events]\n",
      "(1756032824.9794493, 'retrieve_done', '{\"session_id\": \"sess-63dbd528\", \"n_hits\": 6}')\n",
      "(1756032818.9491704, 'bootstrap', '{\"note\": \"fresh init\"}')\n"
     ]
    }
   ],
   "source": [
    "import json, sqlite3\n",
    "from src.agent.config import CFG\n",
    "\n",
    "con = sqlite3.connect(CFG.sqlite_path)\n",
    "cur = con.cursor()\n",
    "for table in [\"conversations\", \"messages\", \"events\"]:\n",
    "    row = cur.execute(f\"SELECT COUNT(*) FROM {table}\").fetchone()\n",
    "    print(f\"{table}: {row[0]} rows\")\n",
    "\n",
    "print(\"\\n[last 5 events]\")\n",
    "for r in cur.execute(\"SELECT ts,event,substr(payload,1,160) FROM events ORDER BY id DESC LIMIT 5\"):\n",
    "    print(r)\n",
    "con.close()"
   ]
  },
  {
   "cell_type": "markdown",
   "id": "33c39130",
   "metadata": {},
   "source": [
    "### **Tool smoke test (Pydantic v2 OK)**"
   ]
  },
  {
   "cell_type": "code",
   "execution_count": 11,
   "id": "137c8cbf",
   "metadata": {},
   "outputs": [
    {
     "name": "stdout",
     "output_type": "stream",
     "text": [
      "• The exclusive rights granted to copyright owners under the Copyright Act of 1976 include reproduction, distribution, public performance, and adaptation of sound recordings (17 U.S.C. § 114).\n",
      "• These exclusive rights are limited to the term of copyright, which is typically the life of the author plus 70 years for sound recordings (17 U.S.C. § 302).\n",
      "• The scope of exclusive rights in sound recordings includes both master recordings and sound recordings themselves, including phonograms and other recordings (17 U.S.C. § 114).\n",
      "• Copyright owners may enforce their exclusive rights through civil actions, including injunctions, damages, and attorney's fees (17 U.S.C. § 114).\n"
     ]
    }
   ],
   "source": [
    "from src.agent.tools import SummarizeTool\n",
    "sumtool = SummarizeTool()\n",
    "print(sumtool.invoke({\"text\": hits[0][\"text\"][:1200], \"max_bullets\": 4}))"
   ]
  }
 ],
 "metadata": {
  "kernelspec": {
   "display_name": "pdf-agent-2",
   "language": "python",
   "name": "python3"
  },
  "language_info": {
   "codemirror_mode": {
    "name": "ipython",
    "version": 3
   },
   "file_extension": ".py",
   "mimetype": "text/x-python",
   "name": "python",
   "nbconvert_exporter": "python",
   "pygments_lexer": "ipython3",
   "version": "3.11.13"
  }
 },
 "nbformat": 4,
 "nbformat_minor": 5
}
