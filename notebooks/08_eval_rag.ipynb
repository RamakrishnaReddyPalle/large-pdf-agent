{
 "cells": [
  {
   "cell_type": "markdown",
   "id": "dc4a9316",
   "metadata": {},
   "source": [
    "### **Setup**"
   ]
  },
  {
   "cell_type": "code",
   "execution_count": 1,
   "id": "66433519",
   "metadata": {},
   "outputs": [
    {
     "name": "stdout",
     "output_type": "stream",
     "text": [
      "ROOT: D:\\IIT BBS\\Job Resources\\Business Optima\\pdf-agent\n",
      "CHUNKS: D:\\IIT BBS\\Job Resources\\Business Optima\\pdf-agent\\data\\chunks\n",
      "GRAPH_OUT: D:\\IIT BBS\\Job Resources\\Business Optima\\pdf-agent\\outputs\\graph\\graph\n",
      "PAIRS_DIR: D:\\IIT BBS\\Job Resources\\Business Optima\\pdf-agent\\data\\pairs\n",
      "RERANKER: D:\\IIT BBS\\Job Resources\\Business Optima\\pdf-agent\\outputs\\reranker\\title17\n"
     ]
    }
   ],
   "source": [
    "from pathlib import Path\n",
    "import sys, os, platform, json\n",
    "\n",
    "CWD  = Path.cwd().resolve()\n",
    "ROOT = CWD if (CWD / \"src\").exists() else CWD.parent\n",
    "if str(ROOT) not in sys.path: sys.path.append(str(ROOT))\n",
    "\n",
    "DATA      = ROOT / \"data\"\n",
    "CHUNKS    = DATA / \"chunks\"\n",
    "GRAPH_OUT = ROOT / \"outputs\" / \"graph\" / \"graph\"\n",
    "PAIRS_DIR = DATA / \"pairs\"\n",
    "OUT_RR    = ROOT / \"outputs\" / \"reranker\" / \"title17\"\n",
    "\n",
    "print(\"ROOT:\", ROOT)\n",
    "print(\"CHUNKS:\", CHUNKS)\n",
    "print(\"GRAPH_OUT:\", GRAPH_OUT)\n",
    "print(\"PAIRS_DIR:\", PAIRS_DIR)\n",
    "print(\"RERANKER:\", OUT_RR)"
   ]
  },
  {
   "cell_type": "markdown",
   "id": "9f5b3fc5",
   "metadata": {},
   "source": [
    "### **load retriever**"
   ]
  },
  {
   "cell_type": "code",
   "execution_count": 2,
   "id": "fe1bebb5",
   "metadata": {},
   "outputs": [
    {
     "name": "stderr",
     "output_type": "stream",
     "text": [
      "d:\\Anaconda\\envs\\pdf-agent-2\\Lib\\site-packages\\sentence_transformers\\cross_encoder\\CrossEncoder.py:11: TqdmExperimentalWarning: Using `tqdm.autonotebook.tqdm` in notebook mode. Use `tqdm.tqdm` instead to force console mode (e.g. in jupyter console)\n",
      "  from tqdm.autonotebook import tqdm, trange\n"
     ]
    },
    {
     "name": "stdout",
     "output_type": "stream",
     "text": [
      "retriever ready.\n"
     ]
    }
   ],
   "source": [
    "from src.serve.retriever import GraphRetriever\n",
    "\n",
    "retr = GraphRetriever(\n",
    "    chunks_dir=str(CHUNKS),\n",
    "    graph_dir=str(GRAPH_OUT),\n",
    "    reranker_dir=str(OUT_RR),\n",
    ")\n",
    "print(\"retriever ready.\")\n"
   ]
  },
  {
   "cell_type": "markdown",
   "id": "40b385d6",
   "metadata": {},
   "source": [
    "### **Quick manual queries**"
   ]
  },
  {
   "cell_type": "code",
   "execution_count": 3,
   "id": "39b79bf3",
   "metadata": {},
   "outputs": [
    {
     "name": "stdout",
     "output_type": "stream",
     "text": [
      "\n",
      "#1  score=0.507  node=SEC-00017  chunk=title17-h-342  pages=[]  section=\n",
      "§ 114 · Scope of exclusive rights in sound recordings 48\n",
      "\n",
      "#2  score=-0.890  node=SEC-00019  chunk=title17-h-689  pages=[]  section=\n",
      "§ 116 · Negotiated licenses for public performances by means of coin-operated phonorecord players 53\n",
      "\n",
      "#3  score=-1.469  node=SEC-00016  chunk=title17-h-328  pages=[]  section=\n",
      "§ 113 · Scope of exclusive rights in pictorial, graphic, and sculptural works 47\n",
      "\n",
      "#4  score=-1.862  node=SEC-00015  chunk=title17-h-307  pages=[]  section=\n",
      "§ 112 · Limitations on exclusive rights: Ephemeral recordings 46\n",
      "\n",
      "#5  score=-1.915  node=SEC-00013  chunk=title17-h-220  pages=[]  section=\n",
      "§ 110 · Limitations on exclusive rights: Exemption of certain performances and displays 43\n"
     ]
    }
   ],
   "source": [
    "q = \"Summarize § 114 performance rights caveat. End with [pp. 67–88].\"\n",
    "hits = retr.search(q, k_nodes=40, k_final_nodes=6, k_each_node=12, k_final_chunks=5)\n",
    "for i, h in enumerate(hits, 1):\n",
    "    snip = (h[\"text\"][:650] + \"…\") if len(h[\"text\"]) > 650 else h[\"text\"]\n",
    "    print(f\"\\n#{i}  score={h['score']:.3f}  node={h['node_id']}  chunk={h['chunk_id']}  pages={h['pages']}  section={h['section']}\\n{snip}\")\n"
   ]
  },
  {
   "cell_type": "markdown",
   "id": "8ddbba0c",
   "metadata": {},
   "source": [
    "### **Retrieval metrics on dev.pairs.jsonl**"
   ]
  },
  {
   "cell_type": "code",
   "execution_count": null,
   "id": "a5d02a3e",
   "metadata": {},
   "outputs": [
    {
     "name": "stdout",
     "output_type": "stream",
     "text": [
      "{'n': 11, 'top1': 0.6363636363636364, 'recall@10': 0.7272727272727273, 'mrr@10': 0.6818181818181818, 'median_rank': 1.0}\n"
     ]
    }
   ],
   "source": [
    "import json, statistics\n",
    "\n",
    "dev_pairs = []\n",
    "with open(PAIRS_DIR / \"dev.pairs.jsonl\", \"r\", encoding=\"utf-8\") as f:\n",
    "    for line in f:\n",
    "        dev_pairs.append(json.loads(line))\n",
    "\n",
    "def eval_retrieval(pairs, k_nodes=40, k_final_nodes=6, k_each_node=12, k_final_chunks=10):\n",
    "    mrr10 = 0.0\n",
    "    recall10 = 0.0\n",
    "    top1 = 0.0\n",
    "    ranks = []\n",
    "\n",
    "    for row in pairs:\n",
    "        q = row[\"query\"]\n",
    "        pos_chunk_id = (row.get(\"meta\") or {}).get(\"pos_chunk_id\")\n",
    "        if not pos_chunk_id:\n",
    "            pos_hint = (row.get(\"positive\") or \"\").strip()\n",
    "\n",
    "        hits = retr.search(q, k_nodes, k_final_nodes, k_each_node, k_final_chunks)\n",
    "\n",
    "        rank = None\n",
    "        for i, h in enumerate(hits, 1):\n",
    "            if pos_chunk_id and h[\"chunk_id\"] == pos_chunk_id:\n",
    "                rank = i\n",
    "                break\n",
    "            if not pos_chunk_id and pos_hint and pos_hint[:50] in h[\"text\"]:\n",
    "                rank = i\n",
    "                break\n",
    "\n",
    "        if rank is not None:\n",
    "            ranks.append(rank)\n",
    "            if rank == 1:\n",
    "                top1 += 1\n",
    "            if rank <= 10:\n",
    "                recall10 += 1\n",
    "            mrr10 += 1.0 / rank\n",
    "\n",
    "    n = len(pairs)\n",
    "    return {\n",
    "        \"n\": n,\n",
    "        \"top1\": top1 / n if n else 0.0,\n",
    "        \"recall@10\": recall10 / n if n else 0.0,\n",
    "        \"mrr@10\": mrr10 / n if n else 0.0,\n",
    "        \"median_rank\": (statistics.median(ranks) if ranks else None),\n",
    "    }\n",
    "\n",
    "metrics = eval_retrieval(dev_pairs)\n",
    "print(metrics)\n"
   ]
  }
 ],
 "metadata": {
  "kernelspec": {
   "display_name": "pdf-agent-2",
   "language": "python",
   "name": "python3"
  },
  "language_info": {
   "codemirror_mode": {
    "name": "ipython",
    "version": 3
   },
   "file_extension": ".py",
   "mimetype": "text/x-python",
   "name": "python",
   "nbconvert_exporter": "python",
   "pygments_lexer": "ipython3",
   "version": "3.11.13"
  }
 },
 "nbformat": 4,
 "nbformat_minor": 5
}
