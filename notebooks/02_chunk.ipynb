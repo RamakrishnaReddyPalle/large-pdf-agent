{
 "cells": [
  {
   "cell_type": "markdown",
   "id": "b4c7836f",
   "metadata": {},
   "source": [
    "## **02 - Chunking**"
   ]
  },
  {
   "cell_type": "code",
   "execution_count": 9,
   "id": "defabc36",
   "metadata": {},
   "outputs": [],
   "source": [
    "import sys\n",
    "from pathlib import Path\n",
    "ROOT = Path.cwd().resolve().parent if (Path.cwd() / \"src\").exists() is False else Path.cwd().resolve()\n",
    "sys.path.append(str(ROOT))\n",
    "\n",
    "from src.ingest.md_to_chunks import md_to_chunks\n",
    "import json, statistics as stats\n",
    "from rapidfuzz import fuzz\n",
    "import itertools, json"
   ]
  },
  {
   "cell_type": "code",
   "execution_count": 7,
   "id": "2b6cf170",
   "metadata": {},
   "outputs": [
    {
     "name": "stdout",
     "output_type": "stream",
     "text": [
      "ROOT: D:\\IIT BBS\\Job Resources\\Business Optima\\pdf-agent\n",
      "MD_PATH exists? True\n",
      "PAGES_JSONL exists? True\n",
      "CHUNKS -> D:\\IIT BBS\\Job Resources\\Business Optima\\pdf-agent\\data\\chunks\\chunks.jsonl\n"
     ]
    }
   ],
   "source": [
    "DOC = \"title17\"  # change if you process another PDF later\n",
    "MD_PATH = ROOT / \"data\" / \"md\" / f\"{DOC}.md\"\n",
    "PAGES_JSONL = ROOT / \"data\" / \"md\" / f\"{DOC}.pages.jsonl\"\n",
    "CHUNKS = ROOT / \"data\" / \"chunks\" / \"chunks.jsonl\"\n",
    "\n",
    "print(\"ROOT:\", ROOT)\n",
    "print(\"MD_PATH exists?\", MD_PATH.exists())\n",
    "print(\"PAGES_JSONL exists?\", PAGES_JSONL.exists())\n",
    "print(\"CHUNKS ->\", CHUNKS)"
   ]
  },
  {
   "cell_type": "code",
   "execution_count": null,
   "id": "4202b521",
   "metadata": {},
   "outputs": [
    {
     "name": "stdout",
     "output_type": "stream",
     "text": [
      "chunks: 2683\n"
     ]
    }
   ],
   "source": [
    "n = md_to_chunks(\n",
    "    MD_PATH,\n",
    "    CHUNKS,\n",
    "    pages_jsonl=PAGES_JSONL,\n",
    "    max_chars=1600,     # tighter granularity for legal text\n",
    "    overlap=400,\n",
    "    drop_gibberish=True,\n",
    "    drop_toc=False,      # set False for ToC chunks included\n",
    "    min_align_score=70, # only assign page if fuzzy score >= 70\n",
    ")\n",
    "print(\"chunks:\", n)"
   ]
  },
  {
   "cell_type": "code",
   "execution_count": 12,
   "id": "f8fe3184",
   "metadata": {},
   "outputs": [
    {
     "name": "stdout",
     "output_type": "stream",
     "text": [
      "{'id': 'title17-h-1', 'text': 'Copyright Law United States Copyri', 'metadata': {'doc_id': 'title17', 'block_type': 'heading', 'heading_path': ['Copyright Law United States Copyri'], 'page_start': 1, 'page_end': 1}}\n",
      "{'id': 'title17-2', 'text': 'CopyrigChipytC LyawohCfoipyfo efhgiyUnywdyhSiysofhipyDhChiLyawpi', 'metadata': {'doc_id': 'title17', 'block_type': 'para', 'heading_path': ['Copyright Law United States Copyri'], 'page_start': None, 'page_end': None}}\n",
      "{'id': 'title17-3', 'text': 'circular 9 2', 'metadata': {'doc_id': 'title17', 'block_type': 'para', 'heading_path': ['Copyright Law United States Copyri'], 'page_start': 484, 'page_end': 484}}\n",
      "{'id': 'title17-h-4', 'text': 'Copyright Law of the United States', 'metadata': {'doc_id': 'title17', 'block_type': 'heading', 'heading_path': ['Copyright Law United States Copyri', 'Copyright Law of the United States'], 'page_start': 3, 'page_end': 3}}\n",
      "{'id': 'title17-5', 'text': 'and Related Laws Contained in Title 17 of the United States Code december 2 0 2 4', 'metadata': {'doc_id': 'title17', 'block_type': 'para', 'heading_path': ['Copyright Law United States Copyri', 'Copyright Law of the United States'], 'page_start': 3, 'page_end': 3}}\n",
      "{'id': 'title17-6', 'text': 'The Congress shall have Power ... To promote the Progress of Science and useful Arts, by securing for limited Times to Authors and Inventors the exclusive Right to their respective Writings and Discoveries.', 'metadata': {'doc_id': 'title17', 'block_type': 'para', 'heading_path': ['Copyright Law United States Copyri', 'Copyright Law of the United States'], 'page_start': 5, 'page_end': 5}}\n",
      "{'id': 'title17-7', 'text': 'united states constitution, article i, section 8', 'metadata': {'doc_id': 'title17', 'block_type': 'para', 'heading_path': ['Copyright Law United States Copyri', 'Copyright Law of the United States'], 'page_start': 5, 'page_end': 5}}\n",
      "{'id': 'title17-h-8', 'text': 'dedication', 'metadata': {'doc_id': 'title17', 'block_type': 'heading', 'heading_path': ['Copyright Law United States Copyri', 'dedication'], 'page_start': 7, 'page_end': 7}}\n",
      "{'id': 'title17-9', 'text': \"This edition of Copyright Law of the United States is dedicated to the thousands of U.S. Copyright Office employees who, since copyright administration was first brought into the Copyright Office in 1870, have worked tirelessly to fulfill copyright's Constitutional mandate.\", 'metadata': {'doc_id': 'title17', 'block_type': 'para', 'heading_path': ['Copyright Law United States Copyri', 'dedication'], 'page_start': 7, 'page_end': 7}}\n",
      "{'id': 'title17-h-10', 'text': 'Preface', 'metadata': {'doc_id': 'title17', 'block_type': 'heading', 'heading_path': ['Copyright Law United States Copyri', 'Preface'], 'page_start': 9, 'page_end': 9}}\n",
      "{'id': 'title17-11', 'text': 'This publication contains the text of Title 17 of the United States Code , including all amendments enacted by Congress through December 23, 2024. It includes the Copyright Act of 1976 and all subsequent amendments to copyright law; the Semiconductor Chip Protection Act of 1984, as amended; and the Vessel Hull Design Protection Act, as amended. The Copyright Office is responsible for registering intellectual property claims under all three.', 'metadata': {'doc_id': 'title17', 'block_type': 'para', 'heading_path': ['Copyright Law United States Copyri', 'Preface'], 'page_start': 9, 'page_end': 9}}\n",
      "{'id': 'title17-12', 'text': 'The United States copyright law is contained in chapters 1 through 8 and 10 through 12 of Title 17 of the United States Code . The Copyright Act of 1976, which provides the basic framework for the current copyright law, was enacted on October 19, 1976, as Pub. L. No. 94-553, 90 Stat. 2541. The 1976 Act was a comprehensive revision of the copyright law in Title 17. Listed below in chronological order of their enactment are the Copyright Act of 1976 and subsequent amendments to Title 17.', 'metadata': {'doc_id': 'title17', 'block_type': 'para', 'heading_path': ['Copyright Law United States Copyri', 'Preface'], 'page_start': 9, 'page_end': 9}}\n",
      "{'id': 'title17-13', 'text': 'Chapters 9 and 13 of Title 17 contain two types of design protection that are independent of copyright protection. Chapter 9 of Title 17 is the Semiconductor Chip Protection Act of 1984 (SCPA), as amended. The SCPA was enacted as Title III of Pub. L. No. 98-620, 98 Stat. 3335, 3347, on November 8, 1984. Chapter 13 of Title 17 is the Vessel Hull Design Protection Act (VHDPA), as amended. The VHDPA was enacted on October 28, 1998, as Title V of the Digital Millennium Copyright Act (DMCA), Pub. L. No. 105-304, 112 Stat. 2860, 2905. Subsequent amendments to the Title 17 provisions for SCPA and the VHDPA are also included in the list below, in chronological order of their enactment.', 'metadata': {'doc_id': 'title17', 'block_type': 'para', 'heading_path': ['Copyright Law United States Copyri', 'Preface'], 'page_start': 9, 'page_end': 9}}\n",
      "{'id': 'title17-14', 'text': 'In some cases, statutory enactments affecting copyright law are not codified in Title 17. For transitional and supplementary provisions that do not amend Title 17, see the appendices.', 'metadata': {'doc_id': 'title17', 'block_type': 'para', 'heading_path': ['Copyright Law United States Copyri', 'Preface'], 'page_start': 9, 'page_end': 9}}\n",
      "{'id': 'title17-15', 'text': 'This edition adds three pieces of copyright legislation enacted since the last printed edition of the circular in May 2021: the Artistic Recognition for Talented Students Act, signed into law in October 2022, the James M. Inhofe National Defense Authorization Act for Fiscal Year 2023, signed into law in December 2022, and the Servicemember Quality of Life Improvement and National Defense Authorization Act for Fiscal Year 2025, signed into law in December 2024.', 'metadata': {'doc_id': 'title17', 'block_type': 'para', 'heading_path': ['Copyright Law United States Copyri', 'Preface'], 'page_start': 9, 'page_end': 9}}\n"
     ]
    }
   ],
   "source": [
    "import json, itertools\n",
    "\n",
    "for line in itertools.islice(open(CHUNKS, \"r\", encoding=\"utf-8\"), 15):\n",
    "    print(json.loads(line))"
   ]
  },
  {
   "cell_type": "code",
   "execution_count": 13,
   "id": "9bc7d42f",
   "metadata": {},
   "outputs": [
    {
     "name": "stdout",
     "output_type": "stream",
     "text": [
      "chunks: 2683\n",
      "avg chars: 470.3 | p50: 289 | p90: 1320\n",
      "by type: {'heading': 440, 'para': 1262, 'list': 957, 'table': 24}\n"
     ]
    }
   ],
   "source": [
    "lengths = []\n",
    "types = {}\n",
    "with open(CHUNKS, \"r\", encoding=\"utf-8\") as f:\n",
    "    for line in f:\n",
    "        rec = json.loads(line)\n",
    "        t = rec[\"metadata\"][\"block_type\"]\n",
    "        lengths.append(len(rec[\"text\"]))\n",
    "        types[t] = types.get(t, 0) + 1\n",
    "\n",
    "print(\"chunks:\", len(lengths))\n",
    "print(\"avg chars:\", round(stats.mean(lengths),1), \"| p50:\", int(stats.median(lengths)),\n",
    "      \"| p90:\", int(sorted(lengths)[int(0.9*len(lengths))-1]))\n",
    "print(\"by type:\", types)"
   ]
  },
  {
   "cell_type": "code",
   "execution_count": 14,
   "id": "fb849843",
   "metadata": {},
   "outputs": [
    {
     "name": "stdout",
     "output_type": "stream",
     "text": [
      "align p50: 98.0 p10: 93.47826086956522\n"
     ]
    }
   ],
   "source": [
    "PAGES = ROOT / \"data/md/title17.pages.jsonl\"\n",
    "pages = [json.loads(x) for x in open(PAGES, \"r\", encoding=\"utf-8\")]\n",
    "pages_text = {p[\"page\"]: (p.get(\"text\") or \"\")[:4000] for p in pages}\n",
    "\n",
    "def score_first400(txt):\n",
    "    probe = (txt or \"\")[:400]\n",
    "    best = 0\n",
    "    for pg, ptxt in pages_text.items():\n",
    "        s = fuzz.partial_ratio(probe, ptxt)\n",
    "        best = max(best, s)\n",
    "    return best\n",
    "\n",
    "scores = []\n",
    "for line in itertools.islice(open(CHUNKS, \"r\", encoding=\"utf-8\"), 200):\n",
    "    rec = json.loads(line)\n",
    "    scores.append(score_first400(rec[\"text\"]))\n",
    "\n",
    "print(\"align p50:\", sorted(scores)[len(scores)//2], \"p10:\", sorted(scores)[len(scores)//10])\n"
   ]
  }
 ],
 "metadata": {
  "kernelspec": {
   "display_name": "pdf-agent-2",
   "language": "python",
   "name": "python3"
  },
  "language_info": {
   "codemirror_mode": {
    "name": "ipython",
    "version": 3
   },
   "file_extension": ".py",
   "mimetype": "text/x-python",
   "name": "python",
   "nbconvert_exporter": "python",
   "pygments_lexer": "ipython3",
   "version": "3.11.13"
  }
 },
 "nbformat": 4,
 "nbformat_minor": 5
}
