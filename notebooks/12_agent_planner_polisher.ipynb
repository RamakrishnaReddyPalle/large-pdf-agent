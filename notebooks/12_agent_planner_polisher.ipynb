{
 "cells": [
  {
   "cell_type": "markdown",
   "id": "6be2736e",
   "metadata": {},
   "source": [
    "### **Root Init**"
   ]
  },
  {
   "cell_type": "code",
   "execution_count": 1,
   "id": "194f4aa7",
   "metadata": {},
   "outputs": [
    {
     "name": "stdout",
     "output_type": "stream",
     "text": [
      "ROOT: D:\\IIT BBS\\Job Resources\\Business Optima\\pdf-agent\n",
      "Python: 3.11.13\n"
     ]
    }
   ],
   "source": [
    "from pathlib import Path, PurePath\n",
    "import sys, os, platform\n",
    "\n",
    "CWD  = Path.cwd().resolve()\n",
    "ROOT = CWD if (CWD / \"src\").exists() else CWD.parent\n",
    "if str(ROOT) not in sys.path: sys.path.append(str(ROOT))\n",
    "\n",
    "print(\"ROOT:\", ROOT)\n",
    "print(\"Python:\", platform.python_version())"
   ]
  },
  {
   "cell_type": "markdown",
   "id": "8f792fa6",
   "metadata": {},
   "source": [
    "### **New prompts**"
   ]
  },
  {
   "cell_type": "code",
   "execution_count": 2,
   "id": "c6a155b8",
   "metadata": {},
   "outputs": [
    {
     "name": "stdout",
     "output_type": "stream",
     "text": [
      "[ok] D:\\IIT BBS\\Job Resources\\Business Optima\\pdf-agent\\configs\\prompts\\planner.txt\n",
      "[ok] D:\\IIT BBS\\Job Resources\\Business Optima\\pdf-agent\\configs\\prompts\\polisher.txt\n"
     ]
    }
   ],
   "source": [
    "PROMPTS = ROOT / \"configs\" / \"prompts\"\n",
    "PROMPTS.mkdir(parents=True, exist_ok=True)\n",
    "\n",
    "need = {\n",
    "    \"planner.txt\": \"\"\"(paste the PLANNER prompt from above)\"\"\",\n",
    "    \"polisher.txt\": \"\"\"(paste the POLISHER prompt from above)\"\"\",\n",
    "}\n",
    "for name, txt in need.items():\n",
    "    fp = PROMPTS / name\n",
    "    if not fp.exists() or fp.stat().st_size == 0:\n",
    "        fp.write_text(txt.strip() + \"\\n\", encoding=\"utf-8\")\n",
    "        print(\"[created]\", fp)\n",
    "    else:\n",
    "        print(\"[ok]\", fp)"
   ]
  },
  {
   "cell_type": "markdown",
   "id": "d6c1a7d5",
   "metadata": {},
   "source": [
    "### **Smoke: complex ask**"
   ]
  },
  {
   "cell_type": "code",
   "execution_count": 3,
   "id": "532a3b04",
   "metadata": {},
   "outputs": [
    {
     "name": "stderr",
     "output_type": "stream",
     "text": [
      "D:\\IIT BBS\\Job Resources\\Business Optima\\pdf-agent\\src\\agent\\memory.py:60: LangChainDeprecationWarning: The class `ChatOllama` was deprecated in LangChain 0.3.1 and will be removed in 1.0.0. An updated version of the class exists in the :class:`~langchain-ollama package and should be used instead. To use it run `pip install -U :class:`~langchain-ollama` and import as `from :class:`~langchain_ollama import ChatOllama``.\n",
      "  llm = ChatOllama(model=CFG.ollama_summarizer, temperature=0.2)\n",
      "D:\\IIT BBS\\Job Resources\\Business Optima\\pdf-agent\\src\\agent\\memory.py:61: LangChainDeprecationWarning: Please see the migration guide at: https://python.langchain.com/docs/versions/migrating_memory/\n",
      "  return ConversationSummaryBufferMemory(\n"
     ]
    },
    {
     "name": "stdout",
     "output_type": "stream",
     "text": [
      "[session] sess-79760191\n",
      "[user] I need (1) the fair use factors under §107, (2) a short compare/contrast with §110 exemptions, and (3) a 5-bullet summary of §114 performance rights caveat. End with page ranges. \n",
      "\n",
      " Answer:\n",
      "- The four fair use factors are: copying purpose and character, copyri > (2) A performance or display of a work in a performance or display made without authorization under subsection (a)(1); (3) A transmission of a performance or display made without authorization under paragraph (1); and (4) A transmission of a performance or display that would be an indirect transmission of private home viewing under subparagraph (B)). \n",
      "\n",
      "Compare/Contrast:\n",
      "The fair use doctrine allows certain activities that might infringe copyrights if done directly, but protects them if performed indirectly or incidental to another permitted activity. This exemption applies to specific works and conditions, such as educational and non-commercial use.\n",
      "Summarize (5 bullets):\n",
      "- A direct performance or display of a work is not considered an infringement if it meets certain conditions, such as public performance, non-commercial use, and three exceptions.\n",
      "\n",
      "[FINAL]\n",
      " Answer:\n",
      "- The four fair use factors are: copying purpose and character, copyri > (2) A performance or display of a work in a performance or display made without authorization under subsection (a)(1); (3) A transmission of a performance or display made without authorization under paragraph (1); and (4) A transmission of a performance or display that would be an indirect transmission of private home viewing under subparagraph (B)). \n",
      "\n",
      "Compare/Contrast:\n",
      "The fair use doctrine allows certain activities that might infringe copyrights if done directly, but protects them if performed indirectly or incidental to another permitted activity. This exemption applies to specific works and conditions, such as educational and non-commercial use.\n",
      "Summarize (5 bullets):\n",
      "- A direct performance or display of a work is not considered an infringement if it meets certain conditions, such as public performance, non-commercial use, and three exceptions.\n",
      "\n",
      "[CITATIONS]\n",
      "{'chunk_id': 'title17-h-193', 'node_id': 'SEC-00010', 'section': '', 'pages': [], 'score': -0.8576968908309937}\n",
      "{'chunk_id': 'title17-h-220', 'node_id': 'SEC-00013', 'section': '', 'pages': [], 'score': -2.971494197845459}\n",
      "{'chunk_id': 'title17-h-186', 'node_id': 'SEC-00009', 'section': '', 'pages': [], 'score': -5.333166599273682}\n",
      "{'chunk_id': 'title17-h-1711', 'node_id': 'SEC-00108', 'section': '', 'pages': [], 'score': -6.167088031768799}\n",
      "{'chunk_id': 'title17-h-197', 'node_id': 'SEC-00011', 'section': '', 'pages': [], 'score': -6.187326908111572}\n",
      "{'chunk_id': 'title17-h-1647', 'node_id': 'SEC-00105', 'section': '', 'pages': [], 'score': -6.214456558227539}\n"
     ]
    },
    {
     "data": {
      "text/plain": [
       "('sess-79760191',\n",
       " ' Answer:\\n- The four fair use factors are: copying purpose and character, copyri > (2) A performance or display of a work in a performance or display made without authorization under subsection (a)(1); (3) A transmission of a performance or display made without authorization under paragraph (1); and (4) A transmission of a performance or display that would be an indirect transmission of private home viewing under subparagraph (B)). \\n\\nCompare/Contrast:\\nThe fair use doctrine allows certain activities that might infringe copyrights if done directly, but protects them if performed indirectly or incidental to another permitted activity. This exemption applies to specific works and conditions, such as educational and non-commercial use.\\nSummarize (5 bullets):\\n- A direct performance or display of a work is not considered an infringement if it meets certain conditions, such as public performance, non-commercial use, and three exceptions.')"
      ]
     },
     "execution_count": 3,
     "metadata": {},
     "output_type": "execute_result"
    }
   ],
   "source": [
    "import uuid, asyncio\n",
    "from src.agent.orchestrator import Title17Agent\n",
    "\n",
    "async def run_once(q: str):\n",
    "    agent = Title17Agent()\n",
    "    sid = f\"sess-{uuid.uuid4().hex[:8]}\"\n",
    "    print(\"[session]\", sid)\n",
    "    print(\"[user]\", q, \"\\n\")\n",
    "\n",
    "    final = []\n",
    "    async for ev in agent.achat_stream(sid, q):\n",
    "        if ev[\"type\"] == \"token\":\n",
    "            print(ev[\"text\"], end=\"\", flush=True)\n",
    "            final.append(ev[\"text\"])\n",
    "        elif ev[\"type\"] == \"final\":\n",
    "            print(\"\\n\\n[FINAL]\\n\", ev[\"text\"])\n",
    "            if ev.get(\"citations\"):\n",
    "                print(\"\\n[CITATIONS]\")\n",
    "                for c in ev[\"citations\"]: print(c)\n",
    "        elif ev[\"type\"] == \"error\":\n",
    "            print(\"\\n[ERROR]\", ev[\"text\"])\n",
    "    return sid, \"\".join(final)\n",
    "\n",
    "q = (\n",
    " \"I need (1) the fair use factors under §107, (2) a short compare/contrast \"\n",
    " \"with §110 exemptions, and (3) a 5-bullet summary of §114 performance rights caveat. \"\n",
    " \"End with page ranges.\"\n",
    ")\n",
    "await run_once(q)"
   ]
  },
  {
   "cell_type": "markdown",
   "id": "6f4d41c6",
   "metadata": {},
   "source": [
    "### **DB check**"
   ]
  },
  {
   "cell_type": "code",
   "execution_count": 4,
   "id": "a67b69df",
   "metadata": {},
   "outputs": [
    {
     "name": "stdout",
     "output_type": "stream",
     "text": [
      "conversations: 2 rows\n",
      "messages: 4 rows\n",
      "events: 3 rows\n",
      "\n",
      "[last 10 events]\n",
      "(1756035317.220416, 'retrieve_done', '{\"session_id\": \"sess-79760191\", \"n_hits\": 6}')\n",
      "(1756032824.9794493, 'retrieve_done', '{\"session_id\": \"sess-63dbd528\", \"n_hits\": 6}')\n",
      "(1756032818.9491704, 'bootstrap', '{\"note\": \"fresh init\"}')\n"
     ]
    }
   ],
   "source": [
    "import json, sqlite3\n",
    "from src.agent.config import CFG\n",
    "\n",
    "con = sqlite3.connect(CFG.sqlite_path); cur = con.cursor()\n",
    "for table in [\"conversations\", \"messages\", \"events\"]:\n",
    "    row = cur.execute(f\"SELECT COUNT(*) FROM {table}\").fetchone()\n",
    "    print(f\"{table}: {row[0]} rows\")\n",
    "\n",
    "print(\"\\n[last 10 events]\")\n",
    "for r in cur.execute(\"SELECT ts,event,substr(payload,1,160) FROM events ORDER BY id DESC LIMIT 10\"):\n",
    "    print(r)\n",
    "con.close()\n"
   ]
  },
  {
   "cell_type": "markdown",
   "id": "92b632d9",
   "metadata": {},
   "source": [
    "### **Out-of-scope test**"
   ]
  },
  {
   "cell_type": "code",
   "execution_count": 5,
   "id": "d3c8d149",
   "metadata": {},
   "outputs": [
    {
     "name": "stdout",
     "output_type": "stream",
     "text": [
      "[session] sess-efe124b8\n",
      "[user] write a python crawler for reddit and summarize 10 threads \n",
      "\n",
      "\n",
      "\n",
      "[FINAL]\n",
      " I’m a Title 17 assistant. I can only answer questions that are clearly about U.S. Copyright law (Title 17). Please rephrase your question to reference the relevant sections or concepts.\n"
     ]
    },
    {
     "data": {
      "text/plain": [
       "('sess-efe124b8', '')"
      ]
     },
     "execution_count": 5,
     "metadata": {},
     "output_type": "execute_result"
    }
   ],
   "source": [
    "await run_once(\"write a python crawler for reddit and summarize 10 threads\")"
   ]
  }
 ],
 "metadata": {
  "kernelspec": {
   "display_name": "pdf-agent-2",
   "language": "python",
   "name": "python3"
  },
  "language_info": {
   "codemirror_mode": {
    "name": "ipython",
    "version": 3
   },
   "file_extension": ".py",
   "mimetype": "text/x-python",
   "name": "python",
   "nbconvert_exporter": "python",
   "pygments_lexer": "ipython3",
   "version": "3.11.13"
  }
 },
 "nbformat": 4,
 "nbformat_minor": 5
}
