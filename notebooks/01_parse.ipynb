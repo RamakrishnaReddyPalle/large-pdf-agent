{
 "cells": [
  {
   "cell_type": "markdown",
   "id": "6947cceb",
   "metadata": {},
   "source": [
    "## **01 - Parsing & Chunking**"
   ]
  },
  {
   "cell_type": "code",
   "execution_count": null,
   "id": "940169c8",
   "metadata": {},
   "outputs": [],
   "source": [
    "import sys\n",
    "from pathlib import Path\n",
    "ROOT = Path.cwd().resolve().parent if (Path.cwd() / \"src\").exists() is False else Path.cwd().resolve()\n",
    "sys.path.append(str(ROOT))\n",
    "\n",
    "from src.ingest.pdf_to_markdown import convert_pdf_to_markdown"
   ]
  },
  {
   "cell_type": "code",
   "execution_count": null,
   "id": "e47f4b45",
   "metadata": {},
   "outputs": [],
   "source": [
    "PDF = ROOT / \"data\" / \"raw\" / \"title17.pdf\"\n",
    "OUT_MD_DIR = ROOT / \"data\" / \"md\"\n",
    "INDEX_DIR = ROOT / \"data\" / \"index\""
   ]
  },
  {
   "cell_type": "markdown",
   "id": "07eca001",
   "metadata": {},
   "source": [
    "#### **PDF -> Markdown + TOC + pages (set ocr=False if no Tesseract)**"
   ]
  },
  {
   "cell_type": "code",
   "execution_count": 3,
   "id": "2f4e7c19",
   "metadata": {},
   "outputs": [
    {
     "name": "stderr",
     "output_type": "stream",
     "text": [
      "d:\\Anaconda\\envs\\pdf-agent-2\\Lib\\site-packages\\torch\\utils\\data\\dataloader.py:666: UserWarning: 'pin_memory' argument is set as true but no accelerator is found, then device pinned memory won't be used.\n",
      "  warnings.warn(warn_msg)\n",
      "d:\\Anaconda\\envs\\pdf-agent-2\\Lib\\site-packages\\torch\\utils\\data\\dataloader.py:666: UserWarning: 'pin_memory' argument is set as true but no accelerator is found, then device pinned memory won't be used.\n",
      "  warnings.warn(warn_msg)\n"
     ]
    },
    {
     "data": {
      "text/plain": [
       "{'markdown': WindowsPath('D:/IIT BBS/Job Resources/Business Optima/pdf-agent/data/md/title17.md'),\n",
       " 'toc_json': WindowsPath('D:/IIT BBS/Job Resources/Business Optima/pdf-agent/data/md/title17.toc.json'),\n",
       " 'pages_jsonl': WindowsPath('D:/IIT BBS/Job Resources/Business Optima/pdf-agent/data/md/title17.pages.jsonl'),\n",
       " 'images_dir': None}"
      ]
     },
     "execution_count": 3,
     "metadata": {},
     "output_type": "execute_result"
    }
   ],
   "source": [
    "paths = convert_pdf_to_markdown(PDF, OUT_MD_DIR, ocr=False)\n",
    "paths"
   ]
  }
 ],
 "metadata": {
  "kernelspec": {
   "display_name": "pdf-agent-2",
   "language": "python",
   "name": "python3"
  },
  "language_info": {
   "codemirror_mode": {
    "name": "ipython",
    "version": 3
   },
   "file_extension": ".py",
   "mimetype": "text/x-python",
   "name": "python",
   "nbconvert_exporter": "python",
   "pygments_lexer": "ipython3",
   "version": "3.11.13"
  }
 },
 "nbformat": 4,
 "nbformat_minor": 5
}
