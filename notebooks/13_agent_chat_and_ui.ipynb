{
 "cells": [
  {
   "cell_type": "markdown",
   "id": "e19aa2d6",
   "metadata": {},
   "source": [
    "### **Bootstrap & imports**"
   ]
  },
  {
   "cell_type": "code",
   "execution_count": 1,
   "id": "2c1eed11",
   "metadata": {},
   "outputs": [
    {
     "name": "stdout",
     "output_type": "stream",
     "text": [
      "Python: 3.11.13\n",
      "ROOT: D:\\IIT BBS\\Job Resources\\Business Optima\\pdf-agent\n"
     ]
    }
   ],
   "source": [
    "from pathlib import Path\n",
    "import sys, os, platform, uuid, json, sqlite3, time\n",
    "print(\"Python:\", platform.python_version())\n",
    "\n",
    "CWD  = Path.cwd().resolve()\n",
    "ROOT = CWD if (CWD / \"src\").exists() else CWD.parent\n",
    "if str(ROOT) not in sys.path: sys.path.append(str(ROOT))\n",
    "print(\"ROOT:\", ROOT)\n",
    "\n",
    "# hot-reload helpers \n",
    "import importlib\n",
    "import src.agent.config as _cfg\n",
    "import src.agent.orchestrator as _orch\n",
    "import src.agent.prompts as _prompts\n",
    "import src.agent.logger as _logger\n",
    "importlib.reload(_cfg); importlib.reload(_orch); importlib.reload(_prompts); importlib.reload(_logger)\n",
    "\n",
    "from src.agent.config import CFG\n",
    "from src.agent.orchestrator import Title17Agent\n",
    "from src.agent.logger import EventLogger\n"
   ]
  },
  {
   "cell_type": "markdown",
   "id": "68c6adc7",
   "metadata": {},
   "source": [
    "### **Utilities: run one turn (streaming in notebook) + small log viewers**"
   ]
  },
  {
   "cell_type": "code",
   "execution_count": null,
   "id": "caa3031e",
   "metadata": {},
   "outputs": [],
   "source": [
    "async def stream_once(agent: Title17Agent, session_id: str, user_text: str):\n",
    "    print(f\"[user] {user_text}\\n\")\n",
    "    chunks = []\n",
    "    async for ev in agent.achat_stream(session_id, user_text):\n",
    "        if ev[\"type\"] == \"token\":\n",
    "            print(ev[\"text\"], end=\"\", flush=True)\n",
    "            chunks.append(ev[\"text\"])\n",
    "        elif ev[\"type\"] == \"final\":\n",
    "            print(\"\\n\\n[FINAL]\\n\", ev[\"text\"])\n",
    "            if ev.get(\"citations\"):\n",
    "                print(\"\\n[CITATIONS]\")\n",
    "                for c in ev[\"citations\"]:\n",
    "                    print(c)\n",
    "        elif ev[\"type\"] == \"error\":\n",
    "            print(\"\\n[ERROR]\", ev[\"text\"])\n",
    "    return \"\".join(chunks)\n",
    "\n",
    "def show_sqlite_summary():\n",
    "    con = sqlite3.connect(CFG.sqlite_path)\n",
    "    cur = con.cursor()\n",
    "    for table in [\"conversations\", \"messages\", \"events\"]:\n",
    "        try:\n",
    "            n = cur.execute(f\"SELECT COUNT(*) FROM {table}\").fetchone()[0]\n",
    "            print(f\"{table}: {n} rows\")\n",
    "        except Exception as e:\n",
    "            print(f\"{table}: (not found) {e}\")\n",
    "    print(\"\\n[last 10 events]\")\n",
    "    try:\n",
    "        for r in cur.execute(\"SELECT ts,event,substr(payload,1,200) FROM events ORDER BY id DESC LIMIT 10\"):\n",
    "            print(r)\n",
    "    except Exception as e:\n",
    "        print(\"(no events) ->\", e)\n",
    "    con.close()\n",
    "\n",
    "def show_session_json(session_id: str, last_n=8):\n",
    "    fp = CFG.sessions_dir / f\"{session_id}.json\"\n",
    "    if not fp.exists():\n",
    "        print(\"[no session json]\", fp)\n",
    "        return\n",
    "    data = json.loads(fp.read_text(encoding=\"utf-8\"))\n",
    "    msgs = data.get(\"messages\", [])[-last_n:]\n",
    "    print(f\"[session file] {fp}  (last {len(msgs)} msgs)\")\n",
    "    for m in msgs:\n",
    "        ts = time.strftime(\"%H:%M:%S\", time.localtime(m[\"ts\"]))\n",
    "        print(f\"- {ts} {m['role']}: {m['content'][:160]}\")"
   ]
  },
  {
   "cell_type": "markdown",
   "id": "b26426a7",
   "metadata": {},
   "source": [
    "### **Sequential chat stress test**"
   ]
  },
  {
   "cell_type": "code",
   "execution_count": 3,
   "id": "91eae74e",
   "metadata": {},
   "outputs": [
    {
     "name": "stderr",
     "output_type": "stream",
     "text": [
      "D:\\IIT BBS\\Job Resources\\Business Optima\\pdf-agent\\src\\agent\\memory.py:60: LangChainDeprecationWarning: The class `ChatOllama` was deprecated in LangChain 0.3.1 and will be removed in 1.0.0. An updated version of the class exists in the :class:`~langchain-ollama package and should be used instead. To use it run `pip install -U :class:`~langchain-ollama` and import as `from :class:`~langchain_ollama import ChatOllama``.\n",
      "  llm = ChatOllama(model=CFG.ollama_summarizer, temperature=0.2)\n",
      "D:\\IIT BBS\\Job Resources\\Business Optima\\pdf-agent\\src\\agent\\memory.py:61: LangChainDeprecationWarning: Please see the migration guide at: https://python.langchain.com/docs/versions/migrating_memory/\n",
      "  return ConversationSummaryBufferMemory(\n"
     ]
    },
    {
     "name": "stdout",
     "output_type": "stream",
     "text": [
      "[session] sess-58d060e1\n",
      "\n",
      "========================================================================================\n",
      "\n",
      "[user] What are the four fair use factors in §107? End with [pp. 40–41].\n",
      "\n",
      " Answer:\n",
      "The four fair use factors are:\n",
      "\n",
      "- The purpose and character of the use, including commercial vs. noncommercial use;\n",
      "- The nature of the work being used;\n",
      "- The amount and significance of the portion used relative to the whole; and\n",
      "- The effect of the use on the potential market for or value of the work.\n",
      "\n",
      "These factors are found in §107, which also provides guidelines for determining fair use.\n",
      "\n",
      "[FINAL]\n",
      " Answer:\n",
      "The four fair use factors are:\n",
      "\n",
      "- The purpose and character of the use, including commercial vs. noncommercial use;\n",
      "- The nature of the work being used;\n",
      "- The amount and significance of the portion used relative to the whole; and\n",
      "- The effect of the use on the potential market for or value of the work.\n",
      "\n",
      "These factors are found in §107, which also provides guidelines for determining fair use.\n",
      "\n",
      "[CITATIONS]\n",
      "{'chunk_id': 'title17-h-193', 'node_id': 'SEC-00010', 'section': '', 'pages': [], 'score': 2.8404288291931152}\n",
      "{'chunk_id': 'title17-h-134', 'node_id': 'SEC-00006', 'section': '', 'pages': [], 'score': -4.6549601554870605}\n",
      "{'chunk_id': 'title17-h-1097', 'node_id': 'SEC-00044', 'section': '', 'pages': [], 'score': -4.776776313781738}\n",
      "{'chunk_id': 'title17-h-127', 'node_id': 'SEC-00005', 'section': '', 'pages': [], 'score': -5.119333267211914}\n",
      "{'chunk_id': 'title17-h-197', 'node_id': 'SEC-00011', 'section': '', 'pages': [], 'score': -5.232700824737549}\n",
      "{'chunk_id': 'title17-h-186', 'node_id': 'SEC-00009', 'section': '', 'pages': [], 'score': -6.326221466064453}\n",
      "\n",
      "========================================================================================\n",
      "\n",
      "[user] wat does sectn 107 say abt fair use? end wth [pp. 40-41]\n",
      "\n",
      " Answer:\n",
      "The fair use doctrine allows limited use of copyrighted material without obtaining permission from the owner. The four factors considered under §107 are: (1) purpose and character of the use, (2) nature of the work, (3) amount and substantiality of the copy's composition, and (4) effect on the potential market.\n",
      "\n",
      "[FINAL]\n",
      " Answer:\n",
      "The fair use doctrine allows limited use of copyrighted material without obtaining permission from the owner. The four factors considered under §107 are: (1) purpose and character of the use, (2) nature of the work, (3) amount and substantiality of the copy's composition, and (4) effect on the potential market.\n",
      "\n",
      "[CITATIONS]\n",
      "{'chunk_id': 'title17-h-193', 'node_id': 'SEC-00010', 'section': '', 'pages': [], 'score': 0.9527965188026428}\n",
      "{'chunk_id': 'title17-h-134', 'node_id': 'SEC-00006', 'section': '', 'pages': [], 'score': -6.440107345581055}\n",
      "{'chunk_id': 'title17-h-127', 'node_id': 'SEC-00005', 'section': '', 'pages': [], 'score': -7.043292999267578}\n",
      "{'chunk_id': 'title17-h-197', 'node_id': 'SEC-00011', 'section': '', 'pages': [], 'score': -8.023563385009766}\n",
      "{'chunk_id': 'title17-h-53', 'node_id': 'SEC-00002', 'section': '', 'pages': [], 'score': -8.370198249816895}\n",
      "{'chunk_id': 'title17-h-186', 'node_id': 'SEC-00009', 'section': '', 'pages': [], 'score': -8.772096633911133}\n",
      "\n",
      "========================================================================================\n",
      "\n",
      "[user] Now compare that with §110 classroom exemptions. Short contrast + page refs.\n",
      "\n",
      "\n",
      "\n",
      "[FINAL]\n",
      " I’m a Title 17 assistant. I can only answer questions that are clearly about U.S. Copyright law (Title 17). Please rephrase your question to reference the relevant sections or concepts.\n",
      "\n",
      "========================================================================================\n",
      "\n",
      "[user] Given your last answer, how do §108 library rules interact with §107? End with page ranges.\n",
      "\n",
      "\n",
      "\n",
      "[FINAL]\n",
      " I’m a Title 17 assistant. I can only answer questions that are clearly about U.S. Copyright law (Title 17). Please rephrase your question to reference the relevant sections or concepts.\n",
      "\n",
      "========================================================================================\n",
      "\n",
      "[user] I need (1) the §107 factors, (2) a brief compare/contrast with §110 exemptions, and (3) a 4-bullet summary of §114’s performance-rights caveat. End with page ranges.\n",
      "\n",
      "\n",
      "\n",
      "[FINAL]\n",
      " I’m a Title 17 assistant. I can only answer questions that are clearly about U.S. Copyright law (Title 17). Please rephrase your question to reference the relevant sections or concepts.\n",
      "\n",
      "========================================================================================\n",
      "\n",
      "[user] write a python crawler for reddit and summarize 10 threads\n",
      "\n",
      "\n",
      "\n",
      "[FINAL]\n",
      " I’m a Title 17 assistant. I can only answer questions that are clearly about U.S. Copyright law (Title 17). Please rephrase your question to reference the relevant sections or concepts.\n",
      "\n",
      "========================================================================================\n",
      "\n",
      "[user] what's your favorite movie?\n",
      "\n",
      "\n",
      "\n",
      "[FINAL]\n",
      " I’m a Title 17 assistant. I can only answer questions that are clearly about U.S. Copyright law (Title 17). Please rephrase your question to reference the relevant sections or concepts.\n",
      "\n",
      "========================================================================================\n",
      "SQLite + session JSON snapshots:\n",
      "\n",
      "conversations: 4 rows\n",
      "messages: 20 rows\n",
      "events: 11 rows\n",
      "\n",
      "[last 10 events]\n",
      "(1756036314.6989343, 'guard_refusal', '{\"session_id\": \"sess-58d060e1\", \"reason\": \"out-of-scope\"}')\n",
      "(1756036314.3164558, 'guard_refusal', '{\"session_id\": \"sess-58d060e1\", \"reason\": \"out-of-scope\"}')\n",
      "(1756036313.9260979, 'guard_refusal', '{\"session_id\": \"sess-58d060e1\", \"reason\": \"out-of-scope\"}')\n",
      "(1756036313.5477724, 'guard_refusal', '{\"session_id\": \"sess-58d060e1\", \"reason\": \"out-of-scope\"}')\n",
      "(1756036313.1592882, 'guard_refusal', '{\"session_id\": \"sess-58d060e1\", \"reason\": \"out-of-scope\"}')\n",
      "(1756036258.1567068, 'retrieve_done', '{\"session_id\": \"sess-58d060e1\", \"n_hits\": 6}')\n",
      "(1756036194.8686938, 'retrieve_done', '{\"session_id\": \"sess-58d060e1\", \"n_hits\": 6}')\n",
      "(1756035518.1391935, 'guard_refusal', '{\"session_id\": \"sess-efe124b8\", \"reason\": \"out-of-scope\"}')\n",
      "(1756035317.220416, 'retrieve_done', '{\"session_id\": \"sess-79760191\", \"n_hits\": 6}')\n",
      "(1756032824.9794493, 'retrieve_done', '{\"session_id\": \"sess-63dbd528\", \"n_hits\": 6}')\n",
      "\n",
      "[session file] D:\\IIT BBS\\Job Resources\\Business Optima\\pdf-agent\\outputs\\sessions\\sess-58d060e1.json  (last 12 msgs)\n",
      "- 17:20:54 user: wat does sectn 107 say abt fair use? end wth [pp. 40-41]\n",
      "- 17:21:53 assistant: Answer:\n",
      "The fair use doctrine allows limited use of copyrighted material without obtaining permission from the owner. The four factors considered under §107 are\n",
      "- 17:21:53 user: Now compare that with §110 classroom exemptions. Short contrast + page refs.\n",
      "- 17:21:53 assistant: I’m a Title 17 assistant. I can only answer questions that are clearly about U.S. Copyright law (Title 17). Please rephrase your question to reference the relev\n",
      "- 17:21:53 user: Given your last answer, how do §108 library rules interact with §107? End with page ranges.\n",
      "- 17:21:53 assistant: I’m a Title 17 assistant. I can only answer questions that are clearly about U.S. Copyright law (Title 17). Please rephrase your question to reference the relev\n",
      "- 17:21:53 user: I need (1) the §107 factors, (2) a brief compare/contrast with §110 exemptions, and (3) a 4-bullet summary of §114’s performance-rights caveat. End with page ra\n",
      "- 17:21:54 assistant: I’m a Title 17 assistant. I can only answer questions that are clearly about U.S. Copyright law (Title 17). Please rephrase your question to reference the relev\n",
      "- 17:21:54 user: write a python crawler for reddit and summarize 10 threads\n",
      "- 17:21:54 assistant: I’m a Title 17 assistant. I can only answer questions that are clearly about U.S. Copyright law (Title 17). Please rephrase your question to reference the relev\n",
      "- 17:21:54 user: what's your favorite movie?\n",
      "- 17:21:54 assistant: I’m a Title 17 assistant. I can only answer questions that are clearly about U.S. Copyright law (Title 17). Please rephrase your question to reference the relev\n"
     ]
    }
   ],
   "source": [
    "agent = Title17Agent()\n",
    "sid = f\"sess-{uuid.uuid4().hex[:8]}\"\n",
    "print(\"[session]\", sid)\n",
    "\n",
    "tests = [\n",
    "    # easy\n",
    "    \"What are the four fair use factors in §107? End with [pp. 40–41].\",\n",
    "\n",
    "    # typo / noisy\n",
    "    \"wat does sectn 107 say abt fair use? end wth [pp. 40-41]\",\n",
    "\n",
    "    # context reference (ask something, then refer back)\n",
    "    \"Now compare that with §110 classroom exemptions. Short contrast + page refs.\",\n",
    "    \"Given your last answer, how do §108 library rules interact with §107? End with page ranges.\",\n",
    "\n",
    "    # heavy, multi-part\n",
    "    (\"I need (1) the §107 factors, (2) a brief compare/contrast with §110 exemptions, and \"\n",
    "     \"(3) a 4-bullet summary of §114’s performance-rights caveat. End with page ranges.\"),\n",
    "\n",
    "    # out-of-scope\n",
    "    \"write a python crawler for reddit and summarize 10 threads\",\n",
    "\n",
    "    # random chit-chat (should keep Title 17 identity)\n",
    "    \"what's your favorite movie?\",\n",
    "]\n",
    "\n",
    "# Jupyter supports top-level await\n",
    "for q in tests:\n",
    "    print(\"\\n\" + \"=\"*88 + \"\\n\")\n",
    "    await stream_once(agent, sid, q)\n",
    "\n",
    "print(\"\\n\" + \"=\"*88)\n",
    "print(\"SQLite + session JSON snapshots:\\n\")\n",
    "show_sqlite_summary()\n",
    "print()\n",
    "show_session_json(sid, last_n=12)"
   ]
  },
  {
   "cell_type": "markdown",
   "id": "76b32d78",
   "metadata": {},
   "source": [
    "### **Gradio UI (streaming tokens, new session, export transcript)**"
   ]
  },
  {
   "cell_type": "code",
   "execution_count": 2,
   "id": "e07d277b",
   "metadata": {},
   "outputs": [
    {
     "name": "stderr",
     "output_type": "stream",
     "text": [
      "D:\\IIT BBS\\Job Resources\\Business Optima\\pdf-agent\\src\\agent\\memory.py:60: LangChainDeprecationWarning: The class `ChatOllama` was deprecated in LangChain 0.3.1 and will be removed in 1.0.0. An updated version of the class exists in the :class:`~langchain-ollama package and should be used instead. To use it run `pip install -U :class:`~langchain-ollama` and import as `from :class:`~langchain_ollama import ChatOllama``.\n",
      "  llm = ChatOllama(model=CFG.ollama_summarizer, temperature=0.2)\n",
      "D:\\IIT BBS\\Job Resources\\Business Optima\\pdf-agent\\src\\agent\\memory.py:61: LangChainDeprecationWarning: Please see the migration guide at: https://python.langchain.com/docs/versions/migrating_memory/\n",
      "  return ConversationSummaryBufferMemory(\n"
     ]
    },
    {
     "name": "stdout",
     "output_type": "stream",
     "text": [
      "* Running on local URL:  http://127.0.0.1:7861\n",
      "* To create a public link, set `share=True` in `launch()`.\n"
     ]
    },
    {
     "data": {
      "text/html": [
       "<div><iframe src=\"http://127.0.0.1:7861/\" width=\"100%\" height=\"500\" allow=\"autoplay; camera; microphone; clipboard-read; clipboard-write;\" frameborder=\"0\" allowfullscreen></iframe></div>"
      ],
      "text/plain": [
       "<IPython.core.display.HTML object>"
      ]
     },
     "metadata": {},
     "output_type": "display_data"
    },
    {
     "data": {
      "text/plain": []
     },
     "execution_count": 2,
     "metadata": {},
     "output_type": "execute_result"
    }
   ],
   "source": [
    "from src.ui.chat import start_app\n",
    "demo = start_app()\n",
    "demo.launch(server_name=\"127.0.0.1\", server_port=7861, share=False)"
   ]
  },
  {
   "cell_type": "code",
   "execution_count": null,
   "id": "0973c1e5",
   "metadata": {},
   "outputs": [],
   "source": []
  }
 ],
 "metadata": {
  "kernelspec": {
   "display_name": "pdf-agent-2",
   "language": "python",
   "name": "python3"
  },
  "language_info": {
   "codemirror_mode": {
    "name": "ipython",
    "version": 3
   },
   "file_extension": ".py",
   "mimetype": "text/x-python",
   "name": "python",
   "nbconvert_exporter": "python",
   "pygments_lexer": "ipython3",
   "version": "3.11.13"
  }
 },
 "nbformat": 4,
 "nbformat_minor": 5
}
